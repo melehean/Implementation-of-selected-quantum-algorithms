{
 "cells": [
  {
   "cell_type": "code",
   "execution_count": 69,
   "metadata": {},
   "outputs": [],
   "source": [
    "import pennylane as qml\n",
    "from pennylane import numpy as np\n",
    "import matplotlib.pyplot as plt"
   ]
  },
  {
   "cell_type": "code",
   "execution_count": 70,
   "metadata": {},
   "outputs": [],
   "source": [
    "from sklearn import datasets\n",
    "from sklearn.utils import shuffle\n",
    "from sklearn.preprocessing import minmax_scale\n",
    "from sklearn.model_selection import train_test_split"
   ]
  },
  {
   "cell_type": "code",
   "execution_count": 71,
   "metadata": {},
   "outputs": [],
   "source": [
    "#data = datasets.load_iris()\n",
    "data = datasets.load_wine()\n",
    "X = data.data\n",
    "Y = data.target\n",
    "qubits_number = len(X[0])\n",
    "device = qml.device(\"default.qubit\", wires=qubits_number)"
   ]
  },
  {
   "cell_type": "code",
   "execution_count": 72,
   "metadata": {},
   "outputs": [],
   "source": [
    "def prepare_layer(weights, r):\n",
    "    for i in range(qubits_number):\n",
    "        qml.Rot(weights[i, 0], weights[i, 1], weights[i, 2], wires=i)\n",
    "    \n",
    "    for i in range(qubits_number):\n",
    "        qml.CNOT(wires=[i, (i+r)%qubits_number])"
   ]
  },
  {
   "cell_type": "code",
   "execution_count": 73,
   "metadata": {},
   "outputs": [],
   "source": [
    "def prepare_angles(_input):\n",
    "    qml.BasisState(np.zeros(qubits_number), wires=range(qubits_number))\n",
    "    for index, value in enumerate(_input):\n",
    "        qml.RX(value, wires=index)"
   ]
  },
  {
   "cell_type": "code",
   "execution_count": 74,
   "metadata": {},
   "outputs": [],
   "source": [
    "@qml.qnode(device)\n",
    "def circuit(weights, shift_array, _input):\n",
    "\n",
    "    prepare_angles(_input)\n",
    "\n",
    "    for index, layer in enumerate(weights):\n",
    "        prepare_layer(layer, shift_array[index])\n",
    "\n",
    "    return qml.expval(qml.PauliZ(0))"
   ]
  },
  {
   "cell_type": "code",
   "execution_count": 75,
   "metadata": {},
   "outputs": [],
   "source": [
    "def qnn(variables, shift_array, _input):\n",
    "    weights = variables[0]\n",
    "    bias = variables[1]\n",
    "    return circuit(weights, shift_array, _input) + bias"
   ]
  },
  {
   "cell_type": "code",
   "execution_count": 76,
   "metadata": {},
   "outputs": [],
   "source": [
    "def count_loss(list_1, list_2):\n",
    "    loss_sum = 0\n",
    "    for element_1, element_2 in zip(list_1, list_2):\n",
    "        single_loss = (element_1 - element_2) ** 2\n",
    "        loss_sum += single_loss\n",
    "    return loss_sum/len(list_1)"
   ]
  },
  {
   "cell_type": "code",
   "execution_count": 77,
   "metadata": {},
   "outputs": [],
   "source": [
    "def loss(variables, shift_array, input, expected_results):\n",
    "    predictions = np.array([qnn(variables, shift_array, x) for x in input])\n",
    "    return count_loss(predictions, expected_results)"
   ]
  },
  {
   "cell_type": "code",
   "execution_count": 78,
   "metadata": {},
   "outputs": [],
   "source": [
    "def devide_into_batches(array, batch_size):\n",
    "    batch_array= []\n",
    "    help_array = []\n",
    "    batch_index = 0\n",
    "    for element in array:\n",
    "       help_array.append(element) \n",
    "       batch_index+=1\n",
    "       if batch_index == batch_size:\n",
    "           batch_array.append(help_array)\n",
    "           help_array = []\n",
    "           batch_index = 0\n",
    "    if help_array:\n",
    "        batch_array.append(help_array)\n",
    "    return batch_array"
   ]
  },
  {
   "cell_type": "code",
   "execution_count": 79,
   "metadata": {},
   "outputs": [],
   "source": [
    "def change_predictions_to_classes(predictions, threshold):\n",
    "    for i in range(len(predictions)):\n",
    "        if predictions[i] >= threshold:\n",
    "            predictions[i] = 1\n",
    "        else:\n",
    "            predictions[i] = 0\n",
    "    return predictions"
   ]
  },
  {
   "cell_type": "code",
   "execution_count": 80,
   "metadata": {},
   "outputs": [],
   "source": [
    "def accuracy(variables, shift_array, _input, expected_results, threshold):\n",
    "    predictions = get_scores(variables, shift_array, _input)\n",
    "\n",
    "    predictions = change_predictions_to_classes(predictions, threshold)\n",
    "\n",
    "    accuracy_count = 0\n",
    "    for prediction, expected_result in zip(predictions, expected_results):\n",
    "        if prediction == expected_result:\n",
    "            accuracy_count += 1\n",
    "    \n",
    "    return accuracy_count/len(expected_results)"
   ]
  },
  {
   "cell_type": "code",
   "execution_count": 81,
   "metadata": {},
   "outputs": [],
   "source": [
    "def get_scores(variables, shift_array, _input):\n",
    "    predictions = np.array([qnn(variables, shift_array, x) for x in _input])\n",
    "    predictions = (predictions + 1.0)/2.0\n",
    "    return predictions"
   ]
  },
  {
   "cell_type": "code",
   "execution_count": 82,
   "metadata": {},
   "outputs": [
    {
     "name": "stdout",
     "output_type": "stream",
     "text": [
      "Epoch: 0\n",
      "Test cost 0.486352163242618\n",
      "Train cost 0.49656235507664676\n",
      "Accuracy in train set: 0.5480769230769231\n",
      "Accuracy in test set: 0.5384615384615384\n",
      "Epoch: 1\n",
      "Test cost 0.45486737329804394\n",
      "Train cost 0.46727911701091845\n",
      "Accuracy in train set: 0.5480769230769231\n",
      "Accuracy in test set: 0.5384615384615384\n",
      "Epoch: 2\n",
      "Test cost 0.4240495168107194\n",
      "Train cost 0.44091513197137017\n",
      "Accuracy in train set: 0.6057692307692307\n",
      "Accuracy in test set: 0.5769230769230769\n",
      "Epoch: 3\n",
      "Test cost 0.39560295482323454\n",
      "Train cost 0.4188667668148477\n",
      "Accuracy in train set: 0.7115384615384616\n",
      "Accuracy in test set: 0.6538461538461539\n",
      "Epoch: 4\n",
      "Test cost 0.363266884758772\n",
      "Train cost 0.3928658402215761\n",
      "Accuracy in train set: 0.8365384615384616\n",
      "Accuracy in test set: 0.8076923076923077\n",
      "Epoch: 5\n",
      "Test cost 0.32507590576480155\n",
      "Train cost 0.3618670185318869\n",
      "Accuracy in train set: 0.9230769230769231\n",
      "Accuracy in test set: 0.9230769230769231\n",
      "Epoch: 6\n",
      "Test cost 0.28998918525617284\n",
      "Train cost 0.33234616047794724\n",
      "Accuracy in train set: 0.9615384615384616\n",
      "Accuracy in test set: 0.9615384615384616\n",
      "Epoch: 7\n",
      "Test cost 0.26486228657287403\n",
      "Train cost 0.3091129509169216\n",
      "Accuracy in train set: 0.9423076923076923\n",
      "Accuracy in test set: 0.8846153846153846\n",
      "Epoch: 8\n",
      "Test cost 0.25287349959849054\n",
      "Train cost 0.2950342263893461\n",
      "Accuracy in train set: 0.9423076923076923\n",
      "Accuracy in test set: 0.8846153846153846\n",
      "Epoch: 9\n",
      "Test cost 0.24937755081472077\n",
      "Train cost 0.2880560431209698\n",
      "Accuracy in train set: 0.9423076923076923\n",
      "Accuracy in test set: 0.8846153846153846\n"
     ]
    }
   ],
   "source": [
    "if __name__ == '__main__':\n",
    "    # get only first two classes\n",
    "    X = X[Y<=1]\n",
    "    Y = Y[Y<=1]\n",
    "    \n",
    "    seed = 0\n",
    "    np.random.seed(0)\n",
    "\n",
    "    X = minmax_scale(X, feature_range=(0, np.pi))\n",
    "\n",
    "    X_train, X_test, Y_train, Y_test = train_test_split(X, Y, test_size=0.2, random_state=seed, shuffle=True, stratify=Y)\n",
    "    Y_train_scaled = np.empty_like(Y_train)\n",
    "    Y_train_scaled[Y_train == 0] = -1\n",
    "    Y_train_scaled[Y_train == 1] = +1\n",
    "\n",
    "    # layers_number = 3\n",
    "    # shift_array = [1,2,3]\n",
    "    # batch_size = 80\n",
    "    layers_number = 4\n",
    "    shift_array = [1,2,3,1]\n",
    "    batch_size = 10\n",
    "    batches_number = len(X_train)//batch_size\n",
    "    epochs_number = 10\n",
    "    \n",
    "    weights = 0.01 * np.random.randn(layers_number, qubits_number, 3)\n",
    "    bias = 0.0\n",
    "    variables = [weights, bias]\n",
    "\n",
    "    optimizer = qml.AdamOptimizer()\n",
    "    losses = np.array(epochs_number)\n",
    "\n",
    "    for epoch in range(epochs_number):\n",
    "        print(\"Epoch:\", epoch)\n",
    "\n",
    "        X_shuffled, Y_shuffled = shuffle(X_train, Y_train_scaled, random_state=seed)\n",
    "        X_batches = devide_into_batches(X_shuffled, batch_size)\n",
    "        Y_batches = devide_into_batches(Y_shuffled, batch_size)\n",
    "            \n",
    "        for iteration in range(batches_number):\n",
    "            batch_cost = lambda help_variables: loss(help_variables, shift_array, X_batches[iteration], Y_batches[iteration])\n",
    "            variables = optimizer.step(batch_cost, variables)\n",
    "            \n",
    "            \n",
    "        print(\"Test cost\", loss(variables, shift_array, X_test, Y_test))\n",
    "        print(\"Train cost\", loss(variables, shift_array, X_train, Y_train))\n",
    "\n",
    "        accuracy_test_value = accuracy(variables, shift_array, X_test, Y_test, threshold=0.5)\n",
    "        accuracy_train_value = accuracy(variables, shift_array, X_train, Y_train, threshold=0.5)\n",
    "\n",
    "        print(\"Accuracy in train set:\", accuracy_train_value)\n",
    "        print(\"Accuracy in test set:\", accuracy_test_value)"
   ]
  },
  {
   "cell_type": "code",
   "execution_count": 86,
   "metadata": {},
   "outputs": [
    {
     "name": "stdout",
     "output_type": "stream",
     "text": [
      "104\n",
      "26\n"
     ]
    }
   ],
   "source": [
    "    Y_scores = get_scores(variables, shift_array, X_test)\n",
    "    Y_zero_class = np.where(Y_test == 0)\n",
    "    Y_first_class = np.where(Y_test == 1)\n",
    "    Y_zero_class_scores = Y_scores[Y_zero_class]\n",
    "    Y_first_class_scores = Y_scores[Y_first_class]\n",
    "    print(len(X_train))\n",
    "    print(len(X_test))"
   ]
  },
  {
   "cell_type": "code",
   "execution_count": 84,
   "metadata": {},
   "outputs": [
    {
     "data": {
      "image/png": "[encoded data removed]",
      "text/plain": [
       "<Figure size 360x720 with 1 Axes>"
      ]
     },
     "metadata": {
      "needs_background": "light"
     },
     "output_type": "display_data"
    }
   ],
   "source": [
    "    f = plt.figure()\n",
    "    f.set_figwidth(5)\n",
    "    f.set_figheight(10)\n",
    "    \n",
    "    plt.rcParams.update({'font.size': 15})\n",
    "    plt.xlabel('Klasa', fontsize=20)\n",
    "    plt.ylabel('Otrzymany wynik', fontsize=20)\n",
    "    plt.xticks(fontsize=20)\n",
    "    plt.yticks(fontsize=20)\n",
    "    plt.scatter(['0']*len(Y_zero_class_scores), Y_zero_class_scores, s=100)\n",
    "    plt.scatter(['1']*len(Y_first_class_scores), Y_first_class_scores, s=100)\n",
    "    plt.show()  "
   ]
  },
  {
   "cell_type": "code",
   "execution_count": 85,
   "metadata": {},
   "outputs": [
    {
     "name": "stdout",
     "output_type": "stream",
     "text": [
      "10\n"
     ]
    }
   ],
   "source": [
    "    print(losses)"
   ]
  }
 ],
 "metadata": {
  "interpreter": {
   "hash": "cb380ffdbc12b09e64718a059da9d78a99aad669345b89b34fe0f6e15619c50c"
  },
  "kernelspec": {
   "display_name": "Python 3.8.5 64-bit ('pennylane-qiskit-env': venv)",
   "language": "python",
   "name": "python3"
  },
  "language_info": {
   "codemirror_mode": {
    "name": "ipython",
    "version": 3
   },
   "file_extension": ".py",
   "mimetype": "text/x-python",
   "name": "python",
   "nbconvert_exporter": "python",
   "pygments_lexer": "ipython3",
   "version": "3.8.5"
  },
  "orig_nbformat": 4
 },
 "nbformat": 4,
 "nbformat_minor": 2
}
