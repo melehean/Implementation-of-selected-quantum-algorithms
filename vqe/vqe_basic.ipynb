{
 "metadata": {
  "language_info": {
   "codemirror_mode": {
    "name": "ipython",
    "version": 3
   },
   "file_extension": ".py",
   "mimetype": "text/x-python",
   "name": "python",
   "nbconvert_exporter": "python",
   "pygments_lexer": "ipython3",
   "version": "3.8.5"
  },
  "orig_nbformat": 4,
  "kernelspec": {
   "name": "python3",
   "display_name": "Python 3.8.5 64-bit ('pennylane-qiskit-env': venv)"
  },
  "interpreter": {
   "hash": "4107348cad108f5bd63bad7e0c932cdf938625cfb7e40f095eeb49e805cee362"
  }
 },
 "nbformat": 4,
 "nbformat_minor": 2,
 "cells": [
  {
   "cell_type": "code",
   "execution_count": 41,
   "metadata": {},
   "outputs": [],
   "source": [
    "import pennylane as qml\n",
    "from pennylane import numpy as np\n",
    "from numpy import linalg as LA\n",
    "import matplotlib\n",
    "# Hamiltonian Z+2*X+3*Y\n",
    "# Ansatz RY"
   ]
  },
  {
   "cell_type": "code",
   "execution_count": 42,
   "metadata": {},
   "outputs": [],
   "source": [
    "QUBITS_NUMBER = 3\n",
    "\n",
    "dev = qml.device(\"default.qubit\",shots=1000, wires=QUBITS_NUMBER)"
   ]
  },
  {
   "cell_type": "code",
   "execution_count": 43,
   "metadata": {},
   "outputs": [],
   "source": [
    "def ansatz(params):\n",
    "    qml.RY(params[0], wires=0)\n",
    "    qml.RY(params[1], wires=1)\n",
    "    qml.RY(params[2], wires=2)"
   ]
  },
  {
   "cell_type": "code",
   "execution_count": 44,
   "metadata": {},
   "outputs": [],
   "source": [
    "@qml.qnode(dev)\n",
    "def circuit_Z(params):\n",
    "    ansatz(params)\n",
    "    return qml.expval(qml.PauliZ(0))"
   ]
  },
  {
   "cell_type": "code",
   "execution_count": 45,
   "metadata": {},
   "outputs": [],
   "source": [
    "@qml.qnode(dev)\n",
    "def circuit_Y(params):\n",
    "    ansatz(params)\n",
    "    qml.RX(np.pi/2,wires=2)\n",
    "    return qml.expval(qml.PauliZ(2))"
   ]
  },
  {
   "cell_type": "code",
   "execution_count": 46,
   "metadata": {},
   "outputs": [],
   "source": [
    "@qml.qnode(dev)\n",
    "def circuit_X(params):\n",
    "    ansatz(params)\n",
    "    qml.RY(-np.pi/2,wires=1)\n",
    "    return qml.expval(qml.PauliZ(1))"
   ]
  },
  {
   "cell_type": "code",
   "execution_count": 47,
   "metadata": {},
   "outputs": [],
   "source": [
    "def cost(params):\n",
    "    z_expectation = circuit_Z(params)\n",
    "    y_expectation = circuit_Y(params)\n",
    "    x_expectation = circuit_X(params)\n",
    "    return z_expectation + 2*x_expectation + 3*y_expectation"
   ]
  },
  {
   "cell_type": "code",
   "execution_count": 48,
   "metadata": {},
   "outputs": [],
   "source": [
    "def getExactValue():\n",
    "    X = np.array([[0,1],\n",
    "                  [1,0]])\n",
    "    Y = np.array([[0,-1j],\n",
    "                  [1j,0]])\n",
    "    Z = np.array([[1,0],\n",
    "                  [0,-1]])\n",
    "    H = Z + 2*X + 3*Y\n",
    "    eigenValues, eigenVectors = LA.eig(H)\n",
    "    return np.amin(eigenValues).real"
   ]
  },
  {
   "cell_type": "code",
   "execution_count": 49,
   "metadata": {},
   "outputs": [],
   "source": [
    "def main():\n",
    "    params = np.random.normal(0, np.pi, (3)) \n",
    "\n",
    "    optimizer = qml.GradientDescentOptimizer(stepsize=0.4)\n",
    "    stepNumber = 100\n",
    "    values = []\n",
    "\n",
    "    for i in range(stepNumber):\n",
    "        params = optimizer.step(cost,params)\n",
    "        print(\"Iteration \" + str(i) + \" Value: \" + str(cost(params)))\n",
    "        values.append(cost(params))\n",
    "\n",
    "    print(\"Final value: \" + str(cost(params)))\n",
    "    print(\"Exact value: \" + str(getExactValue()))"
   ]
  },
  {
   "cell_type": "code",
   "execution_count": 50,
   "metadata": {},
   "outputs": [
    {
     "output_type": "stream",
     "name": "stdout",
     "text": [
      "Iteration 0 Value: 0.992\n",
      "Iteration 1 Value: 1.028\n",
      "Iteration 2 Value: 0.7060000000000001\n",
      "Iteration 3 Value: 0.03999999999999998\n",
      "Iteration 4 Value: -1.3279999999999998\n",
      "Iteration 5 Value: -2.642\n",
      "Iteration 6 Value: -2.938\n",
      "Iteration 7 Value: -2.984\n",
      "Iteration 8 Value: -2.994\n",
      "Iteration 9 Value: -3.03\n",
      "Iteration 10 Value: -2.928\n",
      "Iteration 11 Value: -3.048\n",
      "Iteration 12 Value: -3.084\n",
      "Iteration 13 Value: -3.03\n",
      "Iteration 14 Value: -2.88\n",
      "Iteration 15 Value: -3.06\n",
      "Iteration 16 Value: -2.982\n",
      "Iteration 17 Value: -2.928\n",
      "Iteration 18 Value: -3.054\n",
      "Iteration 19 Value: -3.198\n",
      "Iteration 20 Value: -3.018\n",
      "Iteration 21 Value: -2.988\n",
      "Iteration 22 Value: -2.91\n",
      "Iteration 23 Value: -3.03\n",
      "Iteration 24 Value: -2.844\n",
      "Iteration 25 Value: -3.246\n",
      "Iteration 26 Value: -3.078\n",
      "Iteration 27 Value: -3.06\n",
      "Iteration 28 Value: -3.174\n",
      "Iteration 29 Value: -2.838\n",
      "Iteration 30 Value: -2.922\n",
      "Iteration 31 Value: -2.964\n",
      "Iteration 32 Value: -3.168\n",
      "Iteration 33 Value: -2.868\n",
      "Iteration 34 Value: -3.098\n",
      "Iteration 35 Value: -2.958\n",
      "Iteration 36 Value: -2.95\n",
      "Iteration 37 Value: -2.83\n",
      "Iteration 38 Value: -2.976\n",
      "Iteration 39 Value: -3.078\n",
      "Iteration 40 Value: -2.796\n",
      "Iteration 41 Value: -3.204\n",
      "Iteration 42 Value: -3.06\n",
      "Iteration 43 Value: -2.922\n",
      "Iteration 44 Value: -3.012\n",
      "Iteration 45 Value: -2.904\n",
      "Iteration 46 Value: -3.03\n",
      "Iteration 47 Value: -3.078\n",
      "Iteration 48 Value: -2.802\n",
      "Iteration 49 Value: -3.0\n",
      "Iteration 50 Value: -2.85\n",
      "Iteration 51 Value: -3.03\n",
      "Iteration 52 Value: -3.084\n",
      "Iteration 53 Value: -3.06\n",
      "Iteration 54 Value: -3.162\n",
      "Iteration 55 Value: -3.084\n",
      "Iteration 56 Value: -2.916\n",
      "Iteration 57 Value: -2.792\n",
      "Iteration 58 Value: -3.018\n",
      "Iteration 59 Value: -2.862\n",
      "Iteration 60 Value: -3.156\n",
      "Iteration 61 Value: -2.976\n",
      "Iteration 62 Value: -3.102\n",
      "Iteration 63 Value: -3.102\n",
      "Iteration 64 Value: -2.972\n",
      "Iteration 65 Value: -3.198\n",
      "Iteration 66 Value: -2.952\n",
      "Iteration 67 Value: -2.994\n",
      "Iteration 68 Value: -2.826\n",
      "Iteration 69 Value: -2.928\n",
      "Iteration 70 Value: -3.012\n",
      "Iteration 71 Value: -2.994\n",
      "Iteration 72 Value: -2.892\n",
      "Iteration 73 Value: -3.072\n",
      "Iteration 74 Value: -2.7880000000000003\n",
      "Iteration 75 Value: -3.048\n",
      "Iteration 76 Value: -3.032\n",
      "Iteration 77 Value: -3.012\n",
      "Iteration 78 Value: -2.97\n",
      "Iteration 79 Value: -3.126\n",
      "Iteration 80 Value: -2.922\n",
      "Iteration 81 Value: -2.94\n",
      "Iteration 82 Value: -3.09\n",
      "Iteration 83 Value: -3.198\n",
      "Iteration 84 Value: -2.988\n",
      "Iteration 85 Value: -3.054\n",
      "Iteration 86 Value: -3.138\n",
      "Iteration 87 Value: -3.15\n",
      "Iteration 88 Value: -2.946\n",
      "Iteration 89 Value: -3.024\n",
      "Iteration 90 Value: -2.994\n",
      "Iteration 91 Value: -3.06\n",
      "Iteration 92 Value: -3.084\n",
      "Iteration 93 Value: -2.886\n",
      "Iteration 94 Value: -2.904\n",
      "Iteration 95 Value: -3.054\n",
      "Iteration 96 Value: -3.024\n",
      "Iteration 97 Value: -2.946\n",
      "Iteration 98 Value: -3.18\n",
      "Iteration 99 Value: -3.024\n",
      "Final value: -3.03\n",
      "Exact value: -3.7416573867739418\n"
     ]
    }
   ],
   "source": [
    "if __name__ == '__main__':\n",
    "    main()"
   ]
  }
 ]
}