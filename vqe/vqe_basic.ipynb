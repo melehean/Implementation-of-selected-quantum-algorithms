{
 "metadata": {
  "language_info": {
   "codemirror_mode": {
    "name": "ipython",
    "version": 3
   },
   "file_extension": ".py",
   "mimetype": "text/x-python",
   "name": "python",
   "nbconvert_exporter": "python",
   "pygments_lexer": "ipython3",
   "version": "3.8.5"
  },
  "orig_nbformat": 4,
  "kernelspec": {
   "name": "python3",
   "display_name": "Python 3.8.5 64-bit ('pennylane-qiskit-env': venv)"
  },
  "interpreter": {
   "hash": "4c8470158236c478be0ed2c28ab96d78cff446d063c81a6a4a65ad12c789b187"
  }
 },
 "nbformat": 4,
 "nbformat_minor": 2,
 "cells": [
  {
   "cell_type": "code",
   "execution_count": 51,
   "metadata": {},
   "outputs": [],
   "source": [
    "import pennylane as qml\n",
    "from pennylane import numpy as np\n",
    "from numpy import linalg as LA\n",
    "import matplotlib\n",
    "# Hamiltonian Z+2*X+3*Y\n",
    "# Ansatz RY"
   ]
  },
  {
   "cell_type": "code",
   "execution_count": 52,
   "metadata": {},
   "outputs": [],
   "source": [
    "QUBITS_NUMBER = 3\n",
    "\n",
    "dev = qml.device(\"default.qubit\", wires=QUBITS_NUMBER)"
   ]
  },
  {
   "cell_type": "code",
   "execution_count": 53,
   "metadata": {},
   "outputs": [],
   "source": [
    "def ansatz(params):\n",
    "    qml.RY(params[0], wires=0)\n",
    "    qml.RY(params[1], wires=1)\n",
    "    qml.RY(params[2], wires=2)"
   ]
  },
  {
   "cell_type": "code",
   "execution_count": 54,
   "metadata": {},
   "outputs": [],
   "source": [
    "@qml.qnode(dev)\n",
    "def circuit_Z(params):\n",
    "    ansatz(params)\n",
    "    return qml.expval(qml.PauliZ(0))"
   ]
  },
  {
   "cell_type": "code",
   "execution_count": 55,
   "metadata": {},
   "outputs": [],
   "source": [
    "@qml.qnode(dev)\n",
    "def circuit_Y(params):\n",
    "    ansatz(params)\n",
    "    return qml.expval(qml.PauliY(2))"
   ]
  },
  {
   "cell_type": "code",
   "execution_count": 56,
   "metadata": {},
   "outputs": [],
   "source": [
    "@qml.qnode(dev)\n",
    "def circuit_X(params):\n",
    "    ansatz(params)\n",
    "    return qml.expval(qml.PauliX(1))"
   ]
  },
  {
   "cell_type": "code",
   "execution_count": 57,
   "metadata": {},
   "outputs": [],
   "source": [
    "def cost(params):\n",
    "    z_expectation = circuit_Z(params)\n",
    "    y_expectation = circuit_Y(params)\n",
    "    x_expectation = circuit_X(params)\n",
    "    return z_expectation + 5*x_expectation + 2*y_expectation"
   ]
  },
  {
   "cell_type": "code",
   "execution_count": 58,
   "metadata": {},
   "outputs": [],
   "source": [
    "def getExactValue():\n",
    "    X = np.array([[0,1],\n",
    "                  [1,0]])\n",
    "    Y = np.array([[0,-1j],\n",
    "                  [1j,0]])\n",
    "    Z = np.array([[1,0],\n",
    "                  [0,-1]])\n",
    "    H = Z + 5*X + 2*Y\n",
    "    eigenValues, eigenVectors = LA.eig(H)\n",
    "    return np.amin(eigenValues).real"
   ]
  },
  {
   "cell_type": "code",
   "execution_count": 59,
   "metadata": {
    "tags": []
   },
   "outputs": [
    {
     "output_type": "stream",
     "name": "stdout",
     "text": [
      "Iteration 0 Value: -4.248774797810579\n",
      "Iteration 1 Value: -4.72771214918391\n",
      "Iteration 2 Value: -5.469505178866323\n",
      "Iteration 3 Value: -5.649118292457351\n",
      "Iteration 4 Value: -4.866630304891402\n",
      "Iteration 5 Value: -5.427027701475539\n",
      "Iteration 6 Value: -5.054225914842988\n",
      "Iteration 7 Value: -5.349646280814917\n",
      "Iteration 8 Value: -5.382683594063899\n",
      "Iteration 9 Value: -5.217424281719631\n",
      "Iteration 10 Value: -5.440793111020365\n",
      "Iteration 11 Value: -5.216560241250396\n",
      "Iteration 12 Value: -5.401909883949784\n",
      "Iteration 13 Value: -5.2957853348395165\n",
      "Iteration 14 Value: -5.329234130301737\n",
      "Iteration 15 Value: -5.356022798387186\n",
      "Iteration 16 Value: -5.2924062313657085\n",
      "Iteration 17 Value: -5.368886763549089\n",
      "Iteration 18 Value: -5.29940827203883\n",
      "Iteration 19 Value: -5.34942207237305\n",
      "Iteration 20 Value: -5.324095321475893\n",
      "Iteration 21 Value: -5.326880232593419\n",
      "Iteration 22 Value: -5.340859862422968\n",
      "Iteration 23 Value: -5.317892033966001\n",
      "Iteration 24 Value: -5.342361845040962\n",
      "Iteration 25 Value: -5.321947293441685\n",
      "Iteration 26 Value: -5.335213735873566\n",
      "Iteration 27 Value: -5.3298560545432485\n",
      "Iteration 28 Value: -5.328491159208952\n",
      "Iteration 29 Value: -5.3343537197688065\n",
      "Iteration 30 Value: -5.326521024809955\n",
      "Iteration 31 Value: -5.334103113139092\n",
      "Iteration 32 Value: -5.328292392617926\n",
      "Iteration 33 Value: -5.331626144515445\n",
      "Iteration 34 Value: -5.330757431668255\n",
      "Iteration 35 Value: -5.329693126719092\n",
      "Iteration 36 Value: -5.331907928794026\n",
      "Iteration 37 Value: -5.329340093290301\n",
      "Iteration 38 Value: -5.331618883758411\n",
      "Iteration 39 Value: -5.330024604291159\n",
      "Iteration 40 Value: -5.330797649829039\n",
      "Iteration 41 Value: -5.330771170699452\n",
      "Iteration 42 Value: -5.33026149215173\n",
      "Iteration 43 Value: -5.331045159889012\n",
      "Iteration 44 Value: -5.330231348686467\n",
      "Iteration 45 Value: -5.330895546208448\n",
      "Iteration 46 Value: -5.330477315115923\n",
      "Iteration 47 Value: -5.330632847576681\n",
      "Iteration 48 Value: -5.330696769405625\n",
      "Iteration 49 Value: -5.330490283529376\n",
      "Iteration 50 Value: -5.330754713509997\n",
      "Iteration 51 Value: -5.330504658229494\n",
      "Iteration 52 Value: -5.330691945774624\n",
      "Iteration 53 Value: -5.330588640281296\n",
      "Iteration 54 Value: -5.330610540150916\n",
      "Iteration 55 Value: -5.330651112707331\n",
      "Iteration 56 Value: -5.330574657082254\n",
      "Iteration 57 Value: -5.330660552684512\n",
      "Iteration 58 Value: -5.330585997287418\n",
      "Iteration 59 Value: -5.33063682362098\n",
      "Iteration 60 Value: -5.330613547103377\n",
      "Iteration 61 Value: -5.330612348206414\n",
      "Iteration 62 Value: -5.330630693940175\n",
      "Iteration 63 Value: -5.330604014480523\n",
      "Iteration 64 Value: -5.330631011283128\n",
      "Iteration 65 Value: -5.330609462299789\n",
      "Iteration 66 Value: -5.330622610110071\n",
      "Iteration 67 Value: -5.330618197467114\n",
      "Iteration 68 Value: -5.3306154733006235\n",
      "Iteration 69 Value: -5.330622698280613\n",
      "Iteration 70 Value: -5.330613792169898\n",
      "Iteration 71 Value: -5.330622021696514\n",
      "Iteration 72 Value: -5.330616002577741\n",
      "Iteration 73 Value: -5.330619185475409\n",
      "Iteration 74 Value: -5.330618687639282\n",
      "Iteration 75 Value: -5.330617172143722\n",
      "Iteration 76 Value: -5.330619800359432\n",
      "Iteration 77 Value: -5.330616933474375\n",
      "Iteration 78 Value: -5.3306193675400175\n",
      "Iteration 79 Value: -5.330617752672955\n",
      "Iteration 80 Value: -5.330618445835235\n",
      "Iteration 81 Value: -5.330618553548824\n",
      "Iteration 82 Value: -5.330617899158024\n",
      "Iteration 83 Value: -5.330618804640418\n",
      "Iteration 84 Value: -5.33061791095464\n",
      "Iteration 85 Value: -5.330618608445144\n",
      "Iteration 86 Value: -5.330618197001486\n",
      "Iteration 87 Value: -5.330618318639377\n",
      "Iteration 88 Value: -5.330618428576274\n",
      "Iteration 89 Value: -5.330618177124709\n",
      "Iteration 90 Value: -5.330618476330943\n",
      "Iteration 91 Value: -5.330618206056312\n",
      "Iteration 92 Value: -5.330618398965881\n",
      "Iteration 93 Value: -5.3306183015925725\n",
      "Iteration 94 Value: -5.330618310589486\n",
      "Iteration 95 Value: -5.33061836630685\n",
      "Iteration 96 Value: -5.330618276295556\n",
      "Iteration 97 Value: -5.3306183717691376\n",
      "Iteration 98 Value: -5.3306182924765375\n",
      "Iteration 99 Value: -5.330618343603202\n",
      "Final value: -5.330618343603202\n",
      "Exact value: -5.477225575051661\n"
     ]
    }
   ],
   "source": [
    "if __name__ == '__main__':\n",
    "    params = np.random.normal(0, np.pi, (3)) \n",
    "\n",
    "    optimizer = qml.NesterovMomentumOptimizer(stepsize=0.4)\n",
    "    stepNumber = 100\n",
    "    values = []\n",
    "\n",
    "    for i in range(stepNumber):\n",
    "        params = optimizer.step(cost,params)\n",
    "        print(\"Iteration \" + str(i) + \" Value: \" + str(cost(params)))\n",
    "        values.append(cost(params))\n",
    "    \n",
    "\n",
    "    print(\"Final value: \" + str(cost(params)))\n",
    "    print(\"Exact value: \" + str(getExactValue()))"
   ]
  },
  {
   "cell_type": "code",
   "execution_count": 60,
   "metadata": {},
   "outputs": [
    {
     "output_type": "stream",
     "name": "stdout",
     "text": [
      " 0: ──RY(3.14)──┤     \n 1: ──RY(4.19)──┤ ⟨X⟩ \n 2: ──RY(4.78)──┤     \n\n 0: ──RY(3.14)──┤     \n 1: ──RY(4.19)──┤     \n 2: ──RY(4.78)──┤ ⟨Y⟩ \n\n 0: ──RY(3.14)──┤ ⟨Z⟩ \n 1: ──RY(4.19)──┤     \n 2: ──RY(4.78)──┤     \n\n"
     ]
    }
   ],
   "source": [
    "    drawer = qml.draw(circuit_X)\n",
    "    print(drawer(params))\n",
    "    drawer = qml.draw(circuit_Y)\n",
    "    print(drawer(params))\n",
    "    drawer = qml.draw(circuit_Z)\n",
    "    print(drawer(params))"
   ]
  }
 ]
}