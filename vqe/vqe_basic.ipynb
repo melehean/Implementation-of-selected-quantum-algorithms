{
 "metadata": {
  "language_info": {
   "codemirror_mode": {
    "name": "ipython",
    "version": 3
   },
   "file_extension": ".py",
   "mimetype": "text/x-python",
   "name": "python",
   "nbconvert_exporter": "python",
   "pygments_lexer": "ipython3",
   "version": "3.8.5"
  },
  "orig_nbformat": 4,
  "kernelspec": {
   "name": "python3",
   "display_name": "Python 3.8.5 64-bit ('pennylane-qiskit-env': venv)"
  },
  "interpreter": {
   "hash": "4c8470158236c478be0ed2c28ab96d78cff446d063c81a6a4a65ad12c789b187"
  }
 },
 "nbformat": 4,
 "nbformat_minor": 2,
 "cells": [
  {
   "cell_type": "code",
   "execution_count": 201,
   "metadata": {},
   "outputs": [],
   "source": [
    "import pennylane as qml\n",
    "from pennylane import numpy as np\n",
    "from numpy import linalg as LA\n",
    "import matplotlib\n",
    "# Hamiltonian Z+2*X+3*Y\n",
    "# Ansatz RY"
   ]
  },
  {
   "cell_type": "code",
   "execution_count": 202,
   "metadata": {},
   "outputs": [],
   "source": [
    "QUBITS_NUMBER = 3\n",
    "\n",
    "dev = qml.device(\"default.qubit\", wires=QUBITS_NUMBER)"
   ]
  },
  {
   "cell_type": "code",
   "execution_count": 203,
   "metadata": {},
   "outputs": [],
   "source": [
    "def ansatz(params):\n",
    "    qml.RY(params[0], wires=0)\n",
    "    qml.RY(params[1], wires=1)\n",
    "    qml.RY(params[2], wires=2)"
   ]
  },
  {
   "cell_type": "code",
   "execution_count": 204,
   "metadata": {},
   "outputs": [],
   "source": [
    "@qml.qnode(dev)\n",
    "def circuit_Z(params):\n",
    "    ansatz(params)\n",
    "    return qml.expval(qml.PauliZ(0))"
   ]
  },
  {
   "cell_type": "code",
   "execution_count": 205,
   "metadata": {},
   "outputs": [],
   "source": [
    "@qml.qnode(dev)\n",
    "def circuit_Y(params):\n",
    "    ansatz(params)\n",
    "    #qml.RX(np.pi/2,wires=2)\n",
    "    return qml.expval(qml.PauliY(2))"
   ]
  },
  {
   "cell_type": "code",
   "execution_count": 206,
   "metadata": {},
   "outputs": [],
   "source": [
    "@qml.qnode(dev)\n",
    "def circuit_X(params):\n",
    "    ansatz(params)\n",
    "    #qml.RY(-np.pi/2,wires=1)\n",
    "    return qml.expval(qml.PauliX(1))"
   ]
  },
  {
   "cell_type": "code",
   "execution_count": 207,
   "metadata": {},
   "outputs": [],
   "source": [
    "def cost(params):\n",
    "    z_expectation = circuit_Z(params)\n",
    "    y_expectation = circuit_Y(params)\n",
    "    x_expectation = circuit_X(params)\n",
    "    return z_expectation + 5*x_expectation + 2*y_expectation"
   ]
  },
  {
   "cell_type": "code",
   "execution_count": 208,
   "metadata": {},
   "outputs": [],
   "source": [
    "def getExactValue():\n",
    "    X = np.array([[0,1],\n",
    "                  [1,0]])\n",
    "    Y = np.array([[0,-1j],\n",
    "                  [1j,0]])\n",
    "    Z = np.array([[1,0],\n",
    "                  [0,-1]])\n",
    "    H = Z + 5*X + 2*Y\n",
    "    eigenValues, eigenVectors = LA.eig(H)\n",
    "    return np.amin(eigenValues).real"
   ]
  },
  {
   "cell_type": "code",
   "execution_count": 209,
   "metadata": {},
   "outputs": [],
   "source": [
    "def main():\n",
    "    params = np.random.normal(0, np.pi, (3)) \n",
    "\n",
    "    optimizer = qml.NesterovMomentumOptimizer(stepsize=0.4)\n",
    "    stepNumber = 100\n",
    "    values = []\n",
    "\n",
    "    for i in range(stepNumber):\n",
    "        params = optimizer.step(cost,params)\n",
    "        print(\"Iteration \" + str(i) + \" Value: \" + str(cost(params)))\n",
    "        values.append(cost(params))\n",
    "\n",
    "    print(\"Final value: \" + str(cost(params)))\n",
    "    print(\"Exact value: \" + str(getExactValue()))"
   ]
  },
  {
   "cell_type": "code",
   "execution_count": 210,
   "metadata": {
    "tags": []
   },
   "outputs": [
    {
     "output_type": "stream",
     "name": "stdout",
     "text": [
      "Iteration 0 Value: -3.313861719360709\n",
      "Iteration 1 Value: -4.148430682190908\n",
      "Iteration 2 Value: -5.235458501465362\n",
      "Iteration 3 Value: -5.266108343808274\n",
      "Iteration 4 Value: -5.218582205179029\n",
      "Iteration 5 Value: -5.232351625357522\n",
      "Iteration 6 Value: -5.1964219158832075\n",
      "Iteration 7 Value: -5.387165338990646\n",
      "Iteration 8 Value: -5.275410419273483\n",
      "Iteration 9 Value: -5.35460655223122\n",
      "Iteration 10 Value: -5.3121599884277115\n",
      "Iteration 11 Value: -5.321850516841439\n",
      "Iteration 12 Value: -5.348191687191012\n",
      "Iteration 13 Value: -5.308424458230346\n",
      "Iteration 14 Value: -5.350261646596536\n",
      "Iteration 15 Value: -5.315375258400329\n",
      "Iteration 16 Value: -5.338435964139221\n",
      "Iteration 17 Value: -5.32932789921412\n",
      "Iteration 18 Value: -5.32691779991283\n",
      "Iteration 19 Value: -5.337027533333316\n",
      "Iteration 20 Value: -5.323549340561763\n",
      "Iteration 21 Value: -5.336607611315873\n",
      "Iteration 22 Value: -5.326619213527586\n",
      "Iteration 23 Value: -5.33234275498236\n",
      "Iteration 24 Value: -5.330863476542263\n",
      "Iteration 25 Value: -5.329021058008384\n",
      "Iteration 26 Value: -5.33283979286616\n",
      "Iteration 27 Value: -5.328417899091025\n",
      "Iteration 28 Value: -5.332338288127857\n",
      "Iteration 29 Value: -5.329598676673578\n",
      "Iteration 30 Value: -5.33092446877591\n",
      "Iteration 31 Value: -5.330883394678662\n",
      "Iteration 32 Value: -5.330002947405674\n",
      "Iteration 33 Value: -5.331353332654677\n",
      "Iteration 34 Value: -5.3299524841096755\n",
      "Iteration 35 Value: -5.331094769420202\n",
      "Iteration 36 Value: -5.33037643249814\n",
      "Iteration 37 Value: -5.330642565133176\n",
      "Iteration 38 Value: -5.330753892883717\n",
      "Iteration 39 Value: -5.33039765211457\n",
      "Iteration 40 Value: -5.3308531101820416\n",
      "Iteration 41 Value: -5.330422821820646\n",
      "Iteration 42 Value: -5.330744792912378\n",
      "Iteration 43 Value: -5.330567495179885\n",
      "Iteration 44 Value: -5.330604702271171\n",
      "Iteration 45 Value: -5.330674905093539\n",
      "Iteration 46 Value: -5.3305431014521165\n",
      "Iteration 47 Value: -5.3306909939957245\n",
      "Iteration 48 Value: -5.330562743243075\n",
      "Iteration 49 Value: -5.3306500798923215\n",
      "Iteration 50 Value: -5.330610182873164\n",
      "Iteration 51 Value: -5.330607973380444\n",
      "Iteration 52 Value: -5.330639650842521\n",
      "Iteration 53 Value: -5.330593682596611\n",
      "Iteration 54 Value: -5.330640149137626\n",
      "Iteration 55 Value: -5.330603093353291\n",
      "Iteration 56 Value: -5.330625672149341\n",
      "Iteration 57 Value: -5.33061812962378\n",
      "Iteration 58 Value: -5.330613398417642\n",
      "Iteration 59 Value: -5.330625860312306\n",
      "Iteration 60 Value: -5.330610521817919\n",
      "Iteration 61 Value: -5.330624681757315\n",
      "Iteration 62 Value: -5.330614335345902\n",
      "Iteration 63 Value: -5.330619796558242\n",
      "Iteration 64 Value: -5.3306189557510715\n",
      "Iteration 65 Value: -5.330616335388883\n",
      "Iteration 66 Value: -5.330620865496356\n",
      "Iteration 67 Value: -5.330615929827383\n",
      "Iteration 68 Value: -5.3306201165556395\n",
      "Iteration 69 Value: -5.33061734207046\n",
      "Iteration 70 Value: -5.330618529582548\n",
      "Iteration 71 Value: -5.330618719750438\n",
      "Iteration 72 Value: -5.330617590204395\n",
      "Iteration 73 Value: -5.330619150144079\n",
      "Iteration 74 Value: -5.330617612076805\n",
      "Iteration 75 Value: -5.3306188113684865\n",
      "Iteration 76 Value: -5.3306181049332055\n",
      "Iteration 77 Value: -5.330618312556481\n",
      "Iteration 78 Value: -5.330618503152935\n",
      "Iteration 79 Value: -5.330618069530727\n",
      "Iteration 80 Value: -5.330618584784679\n",
      "Iteration 81 Value: -5.330618119783111\n",
      "Iteration 82 Value: -5.330618451341276\n",
      "Iteration 83 Value: -5.3306182843206535\n",
      "Iteration 84 Value: -5.330618299277898\n",
      "Iteration 85 Value: -5.330618395560266\n",
      "Iteration 86 Value: -5.330618240435596\n",
      "Iteration 87 Value: -5.330618404789418\n",
      "Iteration 88 Value: -5.330618268414143\n",
      "Iteration 89 Value: -5.330618356241011\n",
      "Iteration 90 Value: -5.330618321382393\n",
      "Iteration 91 Value: -5.330618311262219\n",
      "Iteration 92 Value: -5.3306183512294085\n",
      "Iteration 93 Value: -5.330618298444229\n",
      "Iteration 94 Value: -5.330618349248364\n",
      "Iteration 95 Value: -5.33061831052905\n",
      "Iteration 96 Value: -5.33061833252078\n",
      "Iteration 97 Value: -5.3306183270416785\n",
      "Iteration 98 Value: -5.33061831963111\n",
      "Iteration 99 Value: -5.330618334647129\n",
      "Final value: -5.330618334647129\n",
      "Exact value: -5.477225575051661\n"
     ]
    }
   ],
   "source": [
    "if __name__ == '__main__':\n",
    "    main()"
   ]
  }
 ]
}