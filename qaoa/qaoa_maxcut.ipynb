{
 "metadata": {
  "language_info": {
   "codemirror_mode": {
    "name": "ipython",
    "version": 3
   },
   "file_extension": ".py",
   "mimetype": "text/x-python",
   "name": "python",
   "nbconvert_exporter": "python",
   "pygments_lexer": "ipython3",
   "version": "3.8.5"
  },
  "orig_nbformat": 4,
  "kernelspec": {
   "name": "python3",
   "display_name": "Python 3.8.5 64-bit ('pennylane-qiskit-env': venv)"
  },
  "interpreter": {
   "hash": "4c8470158236c478be0ed2c28ab96d78cff446d063c81a6a4a65ad12c789b187"
  }
 },
 "nbformat": 4,
 "nbformat_minor": 2,
 "cells": [
  {
   "cell_type": "code",
   "execution_count": 325,
   "metadata": {},
   "outputs": [],
   "source": [
    "import networkx as nx\n",
    "import pennylane as qml\n",
    "from pennylane import numpy as np\n",
    "import collections\n"
   ]
  },
  {
   "cell_type": "code",
   "execution_count": 326,
   "metadata": {},
   "outputs": [],
   "source": [
    "def getGraphFromFile():\n",
    "    graph = nx.read_edgelist('graph.txt', nodetype=int,\n",
    "    data=(('weight',int),), create_using=nx.Graph())\n",
    "    return graph"
   ]
  },
  {
   "cell_type": "code",
   "execution_count": 327,
   "metadata": {},
   "outputs": [
    {
     "output_type": "execute_result",
     "data": {
      "text/plain": [
       "{(0, 1): Text(0.35100556492772234, 0.4717436109017114, '5'),\n",
       " (0, 2): Text(0.16282533635290442, 0.5399234128620702, '1'),\n",
       " (1, 2): Text(0.013570174482726294, 0.3104880747690111, '7'),\n",
       " (1, 3): Text(0.029546265697966256, -0.039923412862070407, '4'),\n",
       " (2, 3): Text(-0.15863396287685166, 0.02825638909828837, '2'),\n",
       " (3, 4): Text(-0.26370053788167647, -0.6610775492663965, '3')}"
      ]
     },
     "metadata": {},
     "execution_count": 327
    },
    {
     "output_type": "display_data",
     "data": {
      "text/plain": "<Figure size 432x288 with 1 Axes>",
      "image/svg+xml": "<?xml version=\"1.0\" encoding=\"utf-8\" standalone=\"no\"?>\n<!DOCTYPE svg PUBLIC \"-//W3C//DTD SVG 1.1//EN\"\n  \"http://www.w3.org/Graphics/SVG/1.1/DTD/svg11.dtd\">\n<svg height=\"302.4pt\" version=\"1.1\" viewBox=\"0 0 446.4 302.4\" width=\"446.4pt\" xmlns=\"http://www.w3.org/2000/svg\" xmlns:xlink=\"http://www.w3.org/1999/xlink\">\n <metadata>\n  <rdf:RDF xmlns:cc=\"http://creativecommons.org/ns#\" xmlns:dc=\"http://purl.org/dc/elements/1.1/\" xmlns:rdf=\"http://www.w3.org/1999/02/22-rdf-syntax-ns#\">\n   <cc:Work>\n    <dc:type rdf:resource=\"http://purl.org/dc/dcmitype/StillImage\"/>\n    <dc:date>1970-01-01T02:18:22.151257</dc:date>\n    <dc:format>image/svg+xml</dc:format>\n    <dc:creator>\n     <cc:Agent>\n      <dc:title>Matplotlib v3.4.2, https://matplotlib.org/</dc:title>\n     </cc:Agent>\n    </dc:creator>\n   </cc:Work>\n  </rdf:RDF>\n </metadata>\n <defs>\n  <style type=\"text/css\">*{stroke-linecap:butt;stroke-linejoin:round;}</style>\n </defs>\n <g id=\"figure_1\">\n  <g id=\"patch_1\">\n   <path d=\"M 0 302.4 \nL 446.4 302.4 \nL 446.4 0 \nL 0 0 \nz\n\" style=\"fill:#ffffff;\"/>\n  </g>\n  <g id=\"axes_1\">\n   <g id=\"LineCollection_1\">\n    <path clip-path=\"url(#p317a951d5c)\" d=\"M 419.563636 20.290909 \nL 287.097394 90.912925 \n\" style=\"fill:none;stroke:#000000;\"/>\n    <path clip-path=\"url(#p317a951d5c)\" d=\"M 419.563636 20.290909 \nL 120.084558 69.926641 \n\" style=\"fill:none;stroke:#000000;\"/>\n    <path clip-path=\"url(#p317a951d5c)\" d=\"M 287.097394 90.912925 \nL 120.084558 69.926641 \n\" style=\"fill:none;stroke:#000000;\"/>\n    <path clip-path=\"url(#p317a951d5c)\" d=\"M 287.097394 90.912925 \nL 134.263584 177.786074 \n\" style=\"fill:none;stroke:#000000;\"/>\n    <path clip-path=\"url(#p317a951d5c)\" d=\"M 120.084558 69.926641 \nL 134.263584 177.786074 \n\" style=\"fill:none;stroke:#000000;\"/>\n    <path clip-path=\"url(#p317a951d5c)\" d=\"M 134.263584 177.786074 \nL 26.836364 282.109091 \n\" style=\"fill:none;stroke:#000000;\"/>\n   </g>\n   <g id=\"text_1\">\n    <g id=\"patch_2\">\n     <path clip-path=\"url(#p317a951d5c)\" d=\"M 354.211183 64.015934 \nL 359.825622 61.022695 \nQ 362.472902 59.611345 361.061552 56.964065 \nL 356.508478 48.42383 \nQ 355.097128 45.77655 352.449848 47.1879 \nL 346.835408 50.181138 \nQ 344.188128 51.592489 345.599478 54.239768 \nL 350.152553 62.780004 \nQ 351.563903 65.427284 354.211183 64.015934 \nz\n\" style=\"fill:#ffffff;stroke:#ffffff;stroke-linejoin:miter;\"/>\n    </g>\n    <g clip-path=\"url(#p317a951d5c)\">\n     <!-- 5 -->\n     <g transform=\"translate(351.821443 59.533482)rotate(-28.063513)scale(0.1 -0.1)\">\n      <defs>\n       <path d=\"M 691 4666 \nL 3169 4666 \nL 3169 4134 \nL 1269 4134 \nL 1269 2991 \nQ 1406 3038 1543 3061 \nQ 1681 3084 1819 3084 \nQ 2600 3084 3056 2656 \nQ 3513 2228 3513 1497 \nQ 3513 744 3044 326 \nQ 2575 -91 1722 -91 \nQ 1428 -91 1123 -41 \nQ 819 9 494 109 \nL 494 744 \nQ 775 591 1075 516 \nQ 1375 441 1709 441 \nQ 2250 441 2565 725 \nQ 2881 1009 2881 1497 \nQ 2881 1984 2565 2268 \nQ 2250 2553 1709 2553 \nQ 1456 2553 1204 2497 \nQ 953 2441 691 2322 \nL 691 4666 \nz\n\" id=\"DejaVuSans-35\" transform=\"scale(0.015625)\"/>\n      </defs>\n      <use xlink:href=\"#DejaVuSans-35\"/>\n     </g>\n    </g>\n   </g>\n   <g id=\"text_2\">\n    <g id=\"patch_3\">\n     <path clip-path=\"url(#p317a951d5c)\" d=\"M 267.967424 53.362503 \nL 274.244296 52.322172 \nQ 277.203921 51.831643 276.713392 48.872018 \nL 275.130925 39.324144 \nQ 274.640396 36.364519 271.680771 36.855048 \nL 265.403899 37.895378 \nQ 262.444274 38.385907 262.934803 41.345532 \nL 264.51727 50.893406 \nQ 265.007799 53.853032 267.967424 53.362503 \nz\n\" style=\"fill:#ffffff;stroke:#ffffff;stroke-linejoin:miter;\"/>\n    </g>\n    <g clip-path=\"url(#p317a951d5c)\">\n     <!-- 1 -->\n     <g transform=\"translate(267.136846 48.351179)rotate(-9.410668)scale(0.1 -0.1)\">\n      <defs>\n       <path d=\"M 794 531 \nL 1825 531 \nL 1825 4091 \nL 703 3866 \nL 703 4441 \nL 1819 4666 \nL 2450 4666 \nL 2450 531 \nL 3481 531 \nL 3481 0 \nL 794 0 \nL 794 531 \nz\n\" id=\"DejaVuSans-31\" transform=\"scale(0.015625)\"/>\n      </defs>\n      <use xlink:href=\"#DejaVuSans-31\"/>\n     </g>\n    </g>\n   </g>\n   <g id=\"text_3\">\n    <g id=\"patch_4\">\n     <path clip-path=\"url(#p317a951d5c)\" d=\"M 199.457203 87.801055 \nL 205.770059 88.594307 \nQ 208.746652 88.968336 209.120681 85.991744 \nL 210.327313 76.389133 \nQ 210.701342 73.41254 207.724749 73.038511 \nL 201.411893 72.245258 \nQ 198.435301 71.87123 198.061272 74.847822 \nL 196.854639 84.450433 \nQ 196.48061 87.427026 199.457203 87.801055 \nz\n\" style=\"fill:#ffffff;stroke:#ffffff;stroke-linejoin:miter;\"/>\n    </g>\n    <g clip-path=\"url(#p317a951d5c)\">\n     <!-- 7 -->\n     <g transform=\"translate(200.090519 82.761001)rotate(-352.837939)scale(0.1 -0.1)\">\n      <defs>\n       <path d=\"M 525 4666 \nL 3525 4666 \nL 3525 4397 \nL 1831 0 \nL 1172 0 \nL 2766 4134 \nL 525 4134 \nL 525 4666 \nz\n\" id=\"DejaVuSans-37\" transform=\"scale(0.015625)\"/>\n      </defs>\n      <use xlink:href=\"#DejaVuSans-37\"/>\n     </g>\n    </g>\n   </g>\n   <g id=\"text_4\">\n    <g id=\"patch_5\">\n     <path clip-path=\"url(#p317a951d5c)\" d=\"M 211.788584 142.736595 \nL 217.319946 139.592482 \nQ 219.928053 138.109993 218.445564 135.501885 \nL 213.662991 127.088022 \nQ 212.180501 124.479914 209.572394 125.962404 \nL 204.041032 129.106517 \nQ 201.432925 130.589006 202.915414 133.197114 \nL 207.697987 141.610977 \nQ 209.180477 144.219085 211.788584 142.736595 \nz\n\" style=\"fill:#ffffff;stroke:#ffffff;stroke-linejoin:miter;\"/>\n    </g>\n    <g clip-path=\"url(#p317a951d5c)\">\n     <!-- 4 -->\n     <g transform=\"translate(209.27839 138.320472)rotate(-29.614583)scale(0.1 -0.1)\">\n      <defs>\n       <path d=\"M 2419 4116 \nL 825 1625 \nL 2419 1625 \nL 2419 4116 \nz\nM 2253 4666 \nL 3047 4666 \nL 3047 1625 \nL 3713 1625 \nL 3713 1100 \nL 3047 1100 \nL 3047 0 \nL 2419 0 \nL 2419 1100 \nL 313 1100 \nL 313 1709 \nL 2253 4666 \nz\n\" id=\"DejaVuSans-34\" transform=\"scale(0.015625)\"/>\n      </defs>\n      <use xlink:href=\"#DejaVuSans-34\"/>\n     </g>\n    </g>\n   </g>\n   <g id=\"text_5\">\n    <g id=\"patch_6\">\n     <path clip-path=\"url(#p317a951d5c)\" d=\"M 118.987243 121.723965 \nL 119.816512 128.032191 \nQ 120.207523 131.0066 123.181933 130.615589 \nL 132.777501 129.354171 \nQ 135.75191 128.96316 135.360899 125.988751 \nL 134.53163 119.680525 \nQ 134.140619 116.706115 131.16621 117.097126 \nL 121.570642 118.358544 \nQ 118.596232 118.749555 118.987243 121.723965 \nz\n\" style=\"fill:#ffffff;stroke:#ffffff;stroke-linejoin:miter;\"/>\n    </g>\n    <g clip-path=\"url(#p317a951d5c)\">\n     <!-- 2 -->\n     <g transform=\"translate(124.0236 121.061893)rotate(-277.489067)scale(0.1 -0.1)\">\n      <defs>\n       <path d=\"M 1228 531 \nL 3431 531 \nL 3431 0 \nL 469 0 \nL 469 531 \nQ 828 903 1448 1529 \nQ 2069 2156 2228 2338 \nQ 2531 2678 2651 2914 \nQ 2772 3150 2772 3378 \nQ 2772 3750 2511 3984 \nQ 2250 4219 1831 4219 \nQ 1534 4219 1204 4116 \nQ 875 4013 500 3803 \nL 500 4441 \nQ 881 4594 1212 4672 \nQ 1544 4750 1819 4750 \nQ 2544 4750 2975 4387 \nQ 3406 4025 3406 3419 \nQ 3406 3131 3298 2873 \nQ 3191 2616 2906 2266 \nQ 2828 2175 2409 1742 \nQ 1991 1309 1228 531 \nz\n\" id=\"DejaVuSans-32\" transform=\"scale(0.015625)\"/>\n      </defs>\n      <use xlink:href=\"#DejaVuSans-32\"/>\n     </g>\n    </g>\n   </g>\n   <g id=\"text_6\">\n    <g id=\"patch_7\">\n     <path clip-path=\"url(#p317a951d5c)\" d=\"M 83.728966 237.787561 \nL 88.293397 233.355024 \nQ 90.445584 231.265026 88.355586 229.112839 \nL 81.613166 222.169794 \nQ 79.523168 220.017607 77.370981 222.107604 \nL 72.806551 226.540141 \nQ 70.654364 228.630139 72.744362 230.782326 \nL 79.486782 237.725372 \nQ 81.576779 239.877559 83.728966 237.787561 \nz\n\" style=\"fill:#ffffff;stroke:#ffffff;stroke-linejoin:miter;\"/>\n    </g>\n    <g clip-path=\"url(#p317a951d5c)\">\n     <!-- 3 -->\n     <g transform=\"translate(80.190121 234.143415)rotate(-44.160119)scale(0.1 -0.1)\">\n      <defs>\n       <path d=\"M 2597 2516 \nQ 3050 2419 3304 2112 \nQ 3559 1806 3559 1356 \nQ 3559 666 3084 287 \nQ 2609 -91 1734 -91 \nQ 1441 -91 1130 -33 \nQ 819 25 488 141 \nL 488 750 \nQ 750 597 1062 519 \nQ 1375 441 1716 441 \nQ 2309 441 2620 675 \nQ 2931 909 2931 1356 \nQ 2931 1769 2642 2001 \nQ 2353 2234 1838 2234 \nL 1294 2234 \nL 1294 2753 \nL 1863 2753 \nQ 2328 2753 2575 2939 \nQ 2822 3125 2822 3475 \nQ 2822 3834 2567 4026 \nQ 2313 4219 1838 4219 \nQ 1578 4219 1281 4162 \nQ 984 4106 628 3988 \nL 628 4550 \nQ 988 4650 1302 4700 \nQ 1616 4750 1894 4750 \nQ 2613 4750 3031 4423 \nQ 3450 4097 3450 3541 \nQ 3450 3153 3228 2886 \nQ 3006 2619 2597 2516 \nz\n\" id=\"DejaVuSans-33\" transform=\"scale(0.015625)\"/>\n      </defs>\n      <use xlink:href=\"#DejaVuSans-33\"/>\n     </g>\n    </g>\n   </g>\n   <g id=\"PathCollection_1\">\n    <defs>\n     <path d=\"M 0 8.660254 \nC 2.296726 8.660254 4.499694 7.747755 6.123724 6.123724 \nC 7.747755 4.499694 8.660254 2.296726 8.660254 0 \nC 8.660254 -2.296726 7.747755 -4.499694 6.123724 -6.123724 \nC 4.499694 -7.747755 2.296726 -8.660254 0 -8.660254 \nC -2.296726 -8.660254 -4.499694 -7.747755 -6.123724 -6.123724 \nC -7.747755 -4.499694 -8.660254 -2.296726 -8.660254 0 \nC -8.660254 2.296726 -7.747755 4.499694 -6.123724 6.123724 \nC -4.499694 7.747755 -2.296726 8.660254 0 8.660254 \nz\n\" id=\"ma91b06b1f4\" style=\"stroke:#1f78b4;\"/>\n    </defs>\n    <g clip-path=\"url(#p317a951d5c)\">\n     <use style=\"fill:#1f78b4;stroke:#1f78b4;\" x=\"419.563636\" xlink:href=\"#ma91b06b1f4\" y=\"20.290909\"/>\n     <use style=\"fill:#1f78b4;stroke:#1f78b4;\" x=\"287.097394\" xlink:href=\"#ma91b06b1f4\" y=\"90.912925\"/>\n     <use style=\"fill:#1f78b4;stroke:#1f78b4;\" x=\"120.084558\" xlink:href=\"#ma91b06b1f4\" y=\"69.926641\"/>\n     <use style=\"fill:#1f78b4;stroke:#1f78b4;\" x=\"134.263584\" xlink:href=\"#ma91b06b1f4\" y=\"177.786074\"/>\n     <use style=\"fill:#1f78b4;stroke:#1f78b4;\" x=\"26.836364\" xlink:href=\"#ma91b06b1f4\" y=\"282.109091\"/>\n    </g>\n   </g>\n   <g id=\"text_7\">\n    <g clip-path=\"url(#p317a951d5c)\">\n     <!-- 0 -->\n     <g transform=\"translate(415.746136 23.602159)scale(0.12 -0.12)\">\n      <defs>\n       <path d=\"M 2034 4250 \nQ 1547 4250 1301 3770 \nQ 1056 3291 1056 2328 \nQ 1056 1369 1301 889 \nQ 1547 409 2034 409 \nQ 2525 409 2770 889 \nQ 3016 1369 3016 2328 \nQ 3016 3291 2770 3770 \nQ 2525 4250 2034 4250 \nz\nM 2034 4750 \nQ 2819 4750 3233 4129 \nQ 3647 3509 3647 2328 \nQ 3647 1150 3233 529 \nQ 2819 -91 2034 -91 \nQ 1250 -91 836 529 \nQ 422 1150 422 2328 \nQ 422 3509 836 4129 \nQ 1250 4750 2034 4750 \nz\n\" id=\"DejaVuSans-30\" transform=\"scale(0.015625)\"/>\n      </defs>\n      <use xlink:href=\"#DejaVuSans-30\"/>\n     </g>\n    </g>\n   </g>\n   <g id=\"text_8\">\n    <g clip-path=\"url(#p317a951d5c)\">\n     <!-- 1 -->\n     <g transform=\"translate(283.279894 94.224175)scale(0.12 -0.12)\">\n      <use xlink:href=\"#DejaVuSans-31\"/>\n     </g>\n    </g>\n   </g>\n   <g id=\"text_9\">\n    <g clip-path=\"url(#p317a951d5c)\">\n     <!-- 2 -->\n     <g transform=\"translate(116.267058 73.237891)scale(0.12 -0.12)\">\n      <use xlink:href=\"#DejaVuSans-32\"/>\n     </g>\n    </g>\n   </g>\n   <g id=\"text_10\">\n    <g clip-path=\"url(#p317a951d5c)\">\n     <!-- 3 -->\n     <g transform=\"translate(130.446084 181.097324)scale(0.12 -0.12)\">\n      <use xlink:href=\"#DejaVuSans-33\"/>\n     </g>\n    </g>\n   </g>\n   <g id=\"text_11\">\n    <g clip-path=\"url(#p317a951d5c)\">\n     <!-- 4 -->\n     <g transform=\"translate(23.018864 285.420341)scale(0.12 -0.12)\">\n      <use xlink:href=\"#DejaVuSans-34\"/>\n     </g>\n    </g>\n   </g>\n  </g>\n </g>\n <defs>\n  <clipPath id=\"p317a951d5c\">\n   <rect height=\"288\" width=\"432\" x=\"7.2\" y=\"7.2\"/>\n  </clipPath>\n </defs>\n</svg>\n",
      "image/png": "[encoded data removed]"
     },
     "metadata": {}
    }
   ],
   "source": [
    "graph = getGraphFromFile()\n",
    "pos = nx.spring_layout(graph)\n",
    "nx.draw(graph,pos,with_labels=1)\n",
    "labels = nx.get_edge_attributes(graph,'weight')\n",
    "nx.draw_networkx_edge_labels(graph,pos,edge_labels=labels)"
   ]
  },
  {
   "cell_type": "code",
   "execution_count": 328,
   "metadata": {},
   "outputs": [],
   "source": [
    "qubitsNumber = graph.number_of_nodes()\n",
    "layersNumber = 1\n",
    "shotsNumber = 1000\n",
    "device = qml.device(\"default.qubit\", wires=qubitsNumber, shots=shotsNumber)"
   ]
  },
  {
   "cell_type": "code",
   "execution_count": 329,
   "metadata": {},
   "outputs": [],
   "source": [
    "def U_b(beta):\n",
    "    for qubit in range(qubitsNumber):\n",
    "        qml.RX(2*beta, wires=qubit)"
   ]
  },
  {
   "cell_type": "code",
   "execution_count": 330,
   "metadata": {},
   "outputs": [],
   "source": [
    "def U_c(gamma):\n",
    "    for i,j in graph.edges():\n",
    "        weight = graph.get_edge_data(i,j)['weight']\n",
    "        qml.CNOT(wires=[i,j])\n",
    "        qml.RZ(weight*gamma, wires = j)\n",
    "        qml.CNOT(wires=[i,j])"
   ]
  },
  {
   "cell_type": "code",
   "execution_count": 331,
   "metadata": {},
   "outputs": [],
   "source": [
    "def compBasisMeasurement(wires):\n",
    "    n_wires = len(wires)\n",
    "    return qml.Hermitian(np.diag(range(2 ** n_wires)), wires=wires)"
   ]
  },
  {
   "cell_type": "code",
   "execution_count": 332,
   "metadata": {},
   "outputs": [],
   "source": [
    "pauli_z = [[1, 0], [0, -1]]\n",
    "pauli_z_2 = np.kron(pauli_z, pauli_z, requires_grad=False)\n",
    "\n",
    "@qml.qnode(device)\n",
    "def circuit(gammas, betas, edge=None):\n",
    "\n",
    "    for i in range(0,qubitsNumber):\n",
    "        qml.Hadamard(wires=i)\n",
    "\n",
    "    for i in range(0,layersNumber):\n",
    "        U_c(gammas[i])\n",
    "        U_b(betas[i])\n",
    "\n",
    "    if edge is None:\n",
    "        return qml.sample(compBasisMeasurement(range(qubitsNumber)))\n",
    "\n",
    "    return qml.expval(qml.Hermitian(pauli_z_2, wires=edge))"
   ]
  },
  {
   "cell_type": "code",
   "execution_count": 333,
   "metadata": {},
   "outputs": [],
   "source": [
    "def costFunction(params):\n",
    "    gammas = params[0]\n",
    "    betas = params[1]\n",
    "    cost = 0\n",
    "    for i,j in graph.edges():\n",
    "        weight = graph.get_edge_data(i,j)['weight']\n",
    "        cost -= 0.5*weight*(1-circuit(gammas, betas, edge=[i,j]))\n",
    "    return cost"
   ]
  },
  {
   "cell_type": "code",
   "execution_count": 334,
   "metadata": {},
   "outputs": [],
   "source": [
    "def getMaxCutSolution(params):\n",
    "    gammas = params[0]\n",
    "    betas = params[1]\n",
    "    outputDecimal = circuit(gammas, betas)\n",
    "    occurrences = collections.Counter(outputDecimal)\n",
    "    return occurrences"
   ]
  },
  {
   "cell_type": "code",
   "execution_count": 335,
   "metadata": {},
   "outputs": [],
   "source": [
    "def getOptimizer(optimizerName=\"GradientDescent\", stepSize=0.01):\n",
    "    if optimizerName == \"GradientDescent\":\n",
    "        return qml.GradientDescentOptimizer(stepsize=stepSize)\n",
    "    if optimizerName == \"Adam\":\n",
    "        return qml.AdamOptimizer(stepsize=stepSize)\n",
    "    if optimizerName == \"NesterovMomentum\":\n",
    "        return qml.NesterovMomentumOptimizer(stepsize=stepSize)\n",
    "    if optimizerName == \"Adagrad\":\n",
    "        return qml.AdagradOptimizer(stepsize=stepSize)"
   ]
  },
  {
   "cell_type": "code",
   "execution_count": 336,
   "metadata": {
    "tags": [
     "outputPrepend"
    ]
   },
   "outputs": [
    {
     "output_type": "stream",
     "name": "stdout",
     "text": [
      "0: 17, 15.0: 17, 16.0: 15, 0.0: 14, 30.0: 14, 13.0: 13, 21.0: 13, 10.0: 12, 7.0: 8, 24.0: 8, 31.0: 7, 1.0: 7, 26.0: 5, 18.0: 5, 5.0: 4, 3.0: 3, 28.0: 1})\n",
      "Results in 141 step: Counter({22.0: 177, 9.0: 162, 6.0: 65, 25.0: 56, 17.0: 50, 14.0: 43, 29.0: 41, 20.0: 37, 2.0: 34, 11.0: 33, 8.0: 33, 19.0: 30, 23.0: 30, 12.0: 25, 4.0: 19, 27.0: 18, 10.0: 15, 16.0: 14, 15.0: 13, 0.0: 12, 30.0: 12, 24.0: 11, 21.0: 11, 1.0: 11, 31.0: 10, 5.0: 10, 13.0: 9, 7.0: 5, 26.0: 4, 18.0: 4, 28.0: 3, 3.0: 3})\n",
      "Results in 142 step: Counter({22.0: 163, 9.0: 147, 17.0: 66, 14.0: 61, 6.0: 55, 11.0: 47, 25.0: 46, 2.0: 44, 29.0: 39, 20.0: 34, 19.0: 32, 23.0: 32, 8.0: 30, 12.0: 26, 16.0: 22, 27.0: 21, 15.0: 17, 21.0: 15, 30.0: 13, 4.0: 12, 10.0: 11, 31.0: 10, 26.0: 10, 7.0: 7, 28.0: 7, 5.0: 6, 13.0: 6, 1.0: 6, 3.0: 5, 24.0: 4, 18.0: 3, 0.0: 3})\n",
      "Results in 143 step: Counter({9.0: 168, 22.0: 158, 17.0: 62, 25.0: 53, 2.0: 51, 6.0: 47, 29.0: 46, 11.0: 45, 14.0: 37, 23.0: 34, 19.0: 33, 8.0: 33, 20.0: 31, 21.0: 22, 16.0: 20, 10.0: 19, 12.0: 18, 27.0: 17, 15.0: 14, 13.0: 11, 4.0: 10, 30.0: 9, 7.0: 9, 0.0: 9, 1.0: 9, 28.0: 7, 5.0: 6, 26.0: 6, 18.0: 5, 3.0: 4, 24.0: 4, 31.0: 3})\n",
      "Results in 144 step: Counter({22.0: 168, 9.0: 158, 29.0: 57, 17.0: 54, 6.0: 53, 25.0: 48, 14.0: 40, 20.0: 38, 19.0: 37, 23.0: 36, 12.0: 35, 11.0: 29, 8.0: 29, 2.0: 28, 27.0: 25, 10.0: 18, 15.0: 16, 21.0: 16, 4.0: 14, 18.0: 14, 16.0: 13, 30.0: 12, 1.0: 11, 24.0: 8, 3.0: 8, 26.0: 7, 31.0: 7, 5.0: 7, 13.0: 6, 7.0: 4, 28.0: 3, 0.0: 1})\n",
      "Results in 145 step: Counter({22.0: 167, 9.0: 164, 14.0: 70, 17.0: 59, 29.0: 57, 25.0: 52, 6.0: 47, 20.0: 40, 2.0: 38, 12.0: 33, 8.0: 32, 11.0: 32, 19.0: 26, 23.0: 24, 27.0: 23, 21.0: 23, 10.0: 18, 15.0: 16, 4.0: 14, 7.0: 10, 18.0: 8, 16.0: 7, 24.0: 6, 28.0: 6, 13.0: 5, 30.0: 5, 26.0: 4, 0.0: 4, 5.0: 3, 1.0: 3, 31.0: 3, 3.0: 1})\n",
      "Results in 146 step: Counter({9.0: 171, 22.0: 162, 14.0: 57, 25.0: 51, 17.0: 48, 2.0: 44, 6.0: 42, 29.0: 42, 20.0: 40, 11.0: 40, 23.0: 31, 19.0: 30, 8.0: 27, 12.0: 26, 27.0: 24, 10.0: 20, 21.0: 19, 16.0: 16, 15.0: 16, 4.0: 16, 1.0: 10, 24.0: 9, 18.0: 9, 13.0: 8, 26.0: 8, 30.0: 8, 31.0: 7, 0.0: 6, 28.0: 5, 5.0: 4, 7.0: 2, 3.0: 2})\n",
      "Results in 147 step: Counter({9.0: 186, 22.0: 141, 14.0: 60, 17.0: 60, 20.0: 43, 25.0: 43, 2.0: 43, 11.0: 41, 6.0: 38, 29.0: 36, 23.0: 30, 8.0: 26, 10.0: 24, 12.0: 21, 19.0: 20, 27.0: 18, 21.0: 17, 1.0: 17, 15.0: 16, 4.0: 16, 30.0: 14, 16.0: 14, 7.0: 13, 24.0: 12, 13.0: 9, 18.0: 9, 0.0: 8, 26.0: 8, 31.0: 6, 3.0: 4, 5.0: 4, 28.0: 3})\n",
      "Results in 148 step: Counter({9.0: 160, 22.0: 156, 6.0: 54, 17.0: 51, 25.0: 51, 14.0: 47, 29.0: 47, 2.0: 43, 20.0: 41, 21.0: 36, 8.0: 35, 19.0: 32, 11.0: 30, 23.0: 28, 12.0: 26, 16.0: 22, 15.0: 17, 10.0: 16, 27.0: 15, 4.0: 13, 30.0: 12, 13.0: 9, 5.0: 9, 31.0: 8, 26.0: 7, 24.0: 7, 18.0: 7, 1.0: 7, 3.0: 5, 7.0: 5, 0.0: 2, 28.0: 2})\n",
      "Results in 149 step: Counter({22.0: 153, 9.0: 138, 25.0: 65, 14.0: 59, 17.0: 53, 11.0: 50, 2.0: 46, 6.0: 43, 23.0: 38, 29.0: 38, 19.0: 36, 8.0: 34, 20.0: 31, 12.0: 29, 27.0: 22, 4.0: 22, 21.0: 20, 16.0: 18, 10.0: 12, 7.0: 12, 18.0: 11, 15.0: 11, 24.0: 10, 30.0: 10, 13.0: 8, 0.0: 8, 26.0: 7, 1.0: 6, 31.0: 4, 5.0: 3, 28.0: 2, 3.0: 1})\n",
      "Results in 150 step: Counter({22.0: 200, 9.0: 146, 14.0: 59, 29.0: 49, 2.0: 48, 6.0: 45, 17.0: 45, 8.0: 39, 11.0: 37, 20.0: 37, 25.0: 36, 12.0: 35, 19.0: 32, 23.0: 25, 4.0: 20, 15.0: 15, 21.0: 13, 0.0: 12, 10.0: 12, 16.0: 12, 27.0: 12, 1.0: 11, 26.0: 10, 30.0: 10, 7.0: 9, 24.0: 7, 5.0: 6, 31.0: 5, 13.0: 4, 18.0: 4, 3.0: 3, 28.0: 2})\n",
      "Results in 151 step: Counter({9.0: 185, 22.0: 158, 6.0: 55, 17.0: 53, 25.0: 53, 29.0: 48, 11.0: 48, 14.0: 46, 20.0: 42, 2.0: 42, 8.0: 26, 19.0: 25, 23.0: 25, 12.0: 24, 27.0: 24, 4.0: 20, 31.0: 19, 15.0: 15, 16.0: 11, 10.0: 10, 24.0: 9, 18.0: 9, 13.0: 9, 21.0: 8, 0.0: 7, 7.0: 6, 30.0: 5, 5.0: 5, 26.0: 4, 1.0: 4, 28.0: 3, 3.0: 2})\n",
      "Results in 152 step: Counter({22.0: 168, 9.0: 148, 25.0: 62, 17.0: 61, 29.0: 54, 14.0: 52, 11.0: 46, 20.0: 45, 6.0: 44, 2.0: 43, 12.0: 27, 23.0: 26, 8.0: 25, 4.0: 25, 19.0: 24, 27.0: 21, 15.0: 20, 31.0: 11, 16.0: 11, 0.0: 11, 24.0: 9, 10.0: 9, 21.0: 9, 13.0: 8, 18.0: 8, 5.0: 7, 26.0: 7, 1.0: 5, 7.0: 5, 30.0: 4, 3.0: 3, 28.0: 2})\n",
      "Results in 153 step: Counter({22.0: 169, 9.0: 159, 6.0: 59, 29.0: 54, 14.0: 54, 17.0: 52, 20.0: 48, 2.0: 48, 25.0: 46, 23.0: 36, 8.0: 36, 11.0: 34, 27.0: 30, 19.0: 23, 12.0: 22, 4.0: 18, 16.0: 16, 15.0: 12, 31.0: 10, 10.0: 10, 30.0: 10, 1.0: 8, 0.0: 7, 24.0: 7, 18.0: 7, 7.0: 6, 13.0: 5, 5.0: 4, 21.0: 4, 26.0: 3, 28.0: 3})\n",
      "Results in 154 step: Counter({9.0: 155, 22.0: 149, 6.0: 64, 17.0: 57, 14.0: 57, 29.0: 52, 25.0: 50, 2.0: 48, 11.0: 34, 8.0: 34, 20.0: 31, 23.0: 27, 12.0: 26, 27.0: 25, 19.0: 25, 16.0: 20, 4.0: 16, 1.0: 15, 21.0: 14, 15.0: 14, 30.0: 11, 13.0: 11, 24.0: 11, 0.0: 11, 10.0: 9, 18.0: 8, 31.0: 7, 26.0: 6, 7.0: 5, 28.0: 3, 3.0: 3, 5.0: 2})\n",
      "Results in 155 step: Counter({9.0: 161, 22.0: 146, 17.0: 62, 6.0: 60, 25.0: 59, 14.0: 53, 29.0: 51, 20.0: 45, 2.0: 41, 11.0: 38, 23.0: 36, 12.0: 36, 8.0: 32, 19.0: 31, 10.0: 16, 27.0: 16, 16.0: 15, 21.0: 14, 15.0: 12, 4.0: 11, 1.0: 9, 18.0: 9, 0.0: 8, 7.0: 7, 28.0: 6, 31.0: 6, 30.0: 6, 5.0: 5, 24.0: 4, 13.0: 2, 26.0: 2, 3.0: 1})\n",
      "Results in 156 step: Counter({22.0: 171, 9.0: 161, 14.0: 63, 2.0: 58, 17.0: 56, 29.0: 48, 6.0: 46, 25.0: 41, 20.0: 38, 8.0: 33, 23.0: 33, 11.0: 31, 19.0: 28, 12.0: 22, 15.0: 20, 10.0: 17, 16.0: 17, 27.0: 15, 21.0: 14, 1.0: 13, 4.0: 11, 31.0: 10, 13.0: 8, 3.0: 8, 30.0: 8, 18.0: 7, 7.0: 7, 26.0: 5, 24.0: 5, 5.0: 2, 28.0: 2, 0.0: 2})\n",
      "Results in 157 step: Counter({9.0: 160, 22.0: 153, 29.0: 55, 14.0: 54, 2.0: 50, 17.0: 49, 25.0: 49, 11.0: 44, 6.0: 43, 20.0: 39, 8.0: 39, 23.0: 31, 19.0: 25, 12.0: 22, 15.0: 20, 27.0: 20, 21.0: 19, 4.0: 16, 16.0: 16, 10.0: 14, 30.0: 12, 13.0: 12, 18.0: 11, 1.0: 10, 26.0: 7, 7.0: 6, 5.0: 5, 28.0: 5, 3.0: 4, 0.0: 4, 24.0: 3, 31.0: 3})\n",
      "Results in 158 step: Counter({9.0: 157, 22.0: 143, 14.0: 58, 6.0: 51, 2.0: 51, 11.0: 48, 25.0: 48, 20.0: 45, 29.0: 45, 17.0: 44, 8.0: 43, 23.0: 43, 19.0: 28, 12.0: 20, 4.0: 20, 21.0: 19, 15.0: 19, 27.0: 15, 30.0: 14, 16.0: 12, 10.0: 12, 7.0: 10, 31.0: 8, 5.0: 7, 1.0: 7, 24.0: 7, 18.0: 7, 26.0: 6, 0.0: 6, 13.0: 5, 3.0: 2})\n",
      "Results in 159 step: Counter({9.0: 165, 22.0: 162, 17.0: 64, 2.0: 51, 6.0: 50, 25.0: 48, 14.0: 47, 29.0: 45, 20.0: 40, 11.0: 40, 12.0: 37, 19.0: 29, 23.0: 24, 8.0: 22, 27.0: 22, 10.0: 19, 21.0: 16, 15.0: 14, 16.0: 14, 4.0: 13, 31.0: 13, 0.0: 13, 18.0: 10, 1.0: 9, 24.0: 8, 5.0: 5, 13.0: 4, 7.0: 4, 26.0: 4, 3.0: 3, 28.0: 3, 30.0: 2})\n",
      "Results in 160 step: Counter({22.0: 172, 9.0: 154, 17.0: 60, 6.0: 57, 25.0: 56, 20.0: 56, 2.0: 49, 14.0: 46, 11.0: 45, 29.0: 44, 23.0: 32, 8.0: 29, 27.0: 28, 12.0: 23, 16.0: 20, 19.0: 20, 18.0: 14, 4.0: 14, 13.0: 11, 21.0: 9, 31.0: 9, 15.0: 8, 30.0: 8, 1.0: 7, 24.0: 6, 5.0: 5, 26.0: 5, 7.0: 4, 10.0: 4, 0.0: 3, 3.0: 2})\n",
      "Results in 161 step: Counter({22.0: 175, 9.0: 163, 20.0: 64, 14.0: 55, 29.0: 52, 2.0: 47, 25.0: 46, 6.0: 44, 17.0: 38, 11.0: 36, 19.0: 34, 12.0: 32, 8.0: 31, 4.0: 25, 27.0: 20, 23.0: 18, 1.0: 15, 16.0: 15, 10.0: 13, 15.0: 13, 21.0: 11, 30.0: 10, 18.0: 10, 24.0: 6, 13.0: 6, 26.0: 5, 5.0: 4, 3.0: 3, 0.0: 3, 31.0: 3, 7.0: 2, 28.0: 1})\n",
      "Results in 162 step: Counter({9.0: 172, 22.0: 154, 20.0: 59, 14.0: 58, 25.0: 48, 2.0: 46, 17.0: 44, 6.0: 41, 29.0: 41, 23.0: 36, 11.0: 35, 19.0: 32, 12.0: 24, 8.0: 21, 27.0: 18, 16.0: 17, 4.0: 16, 21.0: 16, 30.0: 16, 31.0: 16, 10.0: 15, 18.0: 11, 7.0: 9, 24.0: 9, 15.0: 8, 13.0: 8, 5.0: 7, 26.0: 7, 1.0: 6, 0.0: 4, 3.0: 3, 28.0: 3})\n",
      "Results in 163 step: Counter({9.0: 157, 22.0: 149, 17.0: 62, 25.0: 61, 14.0: 57, 6.0: 54, 29.0: 51, 2.0: 46, 20.0: 43, 11.0: 37, 19.0: 33, 8.0: 28, 12.0: 26, 23.0: 25, 27.0: 20, 4.0: 17, 16.0: 16, 21.0: 15, 15.0: 13, 10.0: 12, 0.0: 9, 7.0: 9, 28.0: 9, 1.0: 7, 13.0: 7, 31.0: 7, 24.0: 7, 5.0: 6, 30.0: 5, 3.0: 5, 26.0: 5, 18.0: 2})\n",
      "Results in 164 step: Counter({22.0: 165, 9.0: 148, 25.0: 61, 14.0: 55, 6.0: 50, 17.0: 49, 2.0: 49, 29.0: 45, 23.0: 40, 11.0: 40, 12.0: 33, 20.0: 32, 19.0: 27, 15.0: 24, 8.0: 24, 10.0: 17, 27.0: 16, 16.0: 15, 4.0: 13, 1.0: 12, 24.0: 12, 7.0: 11, 18.0: 11, 0.0: 8, 30.0: 7, 5.0: 7, 28.0: 6, 13.0: 5, 31.0: 5, 21.0: 5, 26.0: 5, 3.0: 3})\n",
      "Results in 165 step: Counter({22.0: 182, 9.0: 161, 17.0: 53, 6.0: 50, 14.0: 50, 20.0: 45, 29.0: 45, 25.0: 43, 23.0: 41, 2.0: 37, 11.0: 30, 12.0: 29, 8.0: 27, 19.0: 25, 27.0: 24, 4.0: 18, 16.0: 18, 10.0: 17, 15.0: 16, 21.0: 16, 7.0: 12, 18.0: 10, 30.0: 9, 0.0: 7, 26.0: 7, 24.0: 6, 13.0: 6, 1.0: 5, 31.0: 4, 28.0: 4, 3.0: 2, 5.0: 1})\n",
      "Results in 166 step: Counter({9.0: 180, 22.0: 154, 6.0: 53, 25.0: 51, 14.0: 47, 11.0: 46, 17.0: 40, 2.0: 39, 23.0: 36, 19.0: 36, 29.0: 34, 20.0: 33, 8.0: 30, 12.0: 29, 30.0: 24, 10.0: 23, 21.0: 22, 1.0: 22, 27.0: 15, 4.0: 13, 16.0: 13, 15.0: 13, 18.0: 12, 24.0: 10, 13.0: 6, 31.0: 6, 26.0: 4, 0.0: 3, 7.0: 2, 28.0: 2, 5.0: 2})\n",
      "Results in 167 step: Counter({9.0: 174, 22.0: 173, 2.0: 59, 25.0: 55, 17.0: 48, 14.0: 46, 6.0: 43, 11.0: 42, 20.0: 38, 8.0: 37, 23.0: 37, 29.0: 36, 19.0: 29, 4.0: 23, 12.0: 22, 27.0: 18, 1.0: 15, 10.0: 15, 21.0: 12, 30.0: 10, 0.0: 9, 15.0: 8, 16.0: 8, 24.0: 7, 18.0: 7, 28.0: 7, 13.0: 6, 31.0: 4, 7.0: 4, 26.0: 3, 5.0: 3, 3.0: 2})\n",
      "Results in 168 step: Counter({22.0: 174, 9.0: 164, 14.0: 61, 6.0: 59, 11.0: 48, 2.0: 47, 29.0: 45, 25.0: 43, 17.0: 42, 20.0: 42, 23.0: 29, 8.0: 26, 12.0: 22, 19.0: 22, 27.0: 20, 4.0: 16, 16.0: 16, 31.0: 15, 10.0: 15, 0.0: 13, 15.0: 12, 7.0: 11, 18.0: 10, 21.0: 9, 30.0: 7, 5.0: 6, 24.0: 6, 13.0: 5, 28.0: 5, 26.0: 4, 3.0: 4, 1.0: 2})\n",
      "Results in 169 step: Counter({9.0: 159, 22.0: 151, 17.0: 56, 6.0: 54, 14.0: 54, 29.0: 52, 2.0: 51, 11.0: 49, 20.0: 48, 25.0: 42, 23.0: 38, 19.0: 30, 12.0: 26, 8.0: 26, 15.0: 22, 4.0: 18, 21.0: 17, 16.0: 17, 10.0: 13, 27.0: 12, 31.0: 10, 30.0: 10, 1.0: 10, 7.0: 8, 18.0: 7, 5.0: 5, 0.0: 5, 3.0: 3, 28.0: 2, 26.0: 2, 24.0: 2, 13.0: 1})\n",
      "Results in 170 step: Counter({9.0: 156, 22.0: 149, 14.0: 57, 2.0: 56, 17.0: 51, 23.0: 47, 8.0: 45, 6.0: 44, 29.0: 43, 25.0: 41, 11.0: 36, 19.0: 33, 10.0: 29, 20.0: 27, 15.0: 22, 1.0: 20, 21.0: 19, 4.0: 19, 12.0: 18, 16.0: 15, 27.0: 14, 30.0: 13, 13.0: 10, 18.0: 7, 24.0: 7, 26.0: 7, 3.0: 3, 31.0: 3, 7.0: 3, 5.0: 3, 28.0: 2, 0.0: 1})\n",
      "Results in 171 step: Counter({9.0: 177, 22.0: 146, 14.0: 52, 17.0: 51, 25.0: 49, 8.0: 46, 2.0: 46, 6.0: 40, 29.0: 39, 23.0: 38, 10.0: 34, 21.0: 31, 20.0: 27, 11.0: 24, 19.0: 23, 16.0: 22, 1.0: 22, 12.0: 20, 30.0: 16, 4.0: 16, 15.0: 14, 18.0: 10, 5.0: 9, 27.0: 9, 7.0: 9, 13.0: 8, 26.0: 7, 24.0: 6, 28.0: 5, 3.0: 3, 0.0: 1})\n",
      "Results in 172 step: Counter({22.0: 173, 9.0: 169, 14.0: 59, 17.0: 55, 6.0: 52, 29.0: 44, 2.0: 43, 25.0: 43, 20.0: 33, 8.0: 33, 12.0: 30, 23.0: 29, 11.0: 27, 15.0: 22, 16.0: 20, 21.0: 18, 10.0: 18, 19.0: 16, 27.0: 14, 4.0: 12, 24.0: 12, 1.0: 11, 30.0: 10, 13.0: 9, 18.0: 9, 26.0: 7, 0.0: 7, 3.0: 6, 28.0: 5, 7.0: 5, 31.0: 5, 5.0: 4})\n",
      "Results in 173 step: Counter({22.0: 168, 9.0: 166, 14.0: 62, 29.0: 52, 2.0: 52, 25.0: 48, 17.0: 46, 6.0: 44, 12.0: 41, 11.0: 34, 23.0: 31, 19.0: 31, 20.0: 28, 8.0: 27, 4.0: 20, 15.0: 19, 10.0: 17, 18.0: 15, 16.0: 14, 7.0: 12, 3.0: 11, 27.0: 9, 0.0: 8, 21.0: 8, 31.0: 8, 5.0: 7, 13.0: 6, 26.0: 6, 28.0: 5, 30.0: 3, 24.0: 2})\n",
      "Results in 174 step: Counter({22.0: 180, 9.0: 166, 14.0: 53, 2.0: 50, 6.0: 50, 17.0: 48, 8.0: 46, 25.0: 45, 29.0: 42, 11.0: 34, 20.0: 32, 19.0: 31, 23.0: 27, 12.0: 25, 27.0: 23, 10.0: 20, 15.0: 20, 21.0: 18, 16.0: 14, 30.0: 13, 4.0: 13, 1.0: 13, 31.0: 6, 13.0: 5, 18.0: 4, 26.0: 4, 24.0: 4, 0.0: 4, 5.0: 3, 7.0: 3, 3.0: 3, 28.0: 1})\n",
      "Results in 175 step: Counter({22.0: 159, 9.0: 156, 17.0: 59, 25.0: 56, 14.0: 48, 6.0: 46, 20.0: 45, 29.0: 44, 2.0: 42, 8.0: 36, 11.0: 36, 12.0: 32, 19.0: 31, 23.0: 30, 30.0: 24, 27.0: 22, 1.0: 21, 21.0: 20, 10.0: 19, 4.0: 17, 15.0: 11, 13.0: 11, 16.0: 8, 31.0: 6, 18.0: 6, 0.0: 4, 24.0: 3, 5.0: 3, 7.0: 3, 3.0: 1, 26.0: 1})\n",
      "Results in 176 step: Counter({9.0: 165, 22.0: 153, 25.0: 62, 20.0: 59, 14.0: 55, 29.0: 51, 11.0: 49, 6.0: 47, 2.0: 43, 17.0: 38, 4.0: 35, 12.0: 30, 19.0: 30, 8.0: 24, 23.0: 24, 27.0: 18, 16.0: 14, 7.0: 14, 0.0: 13, 15.0: 12, 10.0: 11, 21.0: 10, 24.0: 10, 13.0: 7, 31.0: 6, 5.0: 4, 1.0: 4, 18.0: 3, 3.0: 3, 28.0: 3, 30.0: 2, 26.0: 1})\n",
      "Results in 177 step: Counter({22.0: 173, 9.0: 160, 14.0: 71, 29.0: 57, 6.0: 56, 17.0: 49, 2.0: 43, 20.0: 41, 25.0: 39, 8.0: 31, 11.0: 31, 12.0: 29, 23.0: 27, 19.0: 27, 27.0: 20, 4.0: 18, 16.0: 16, 31.0: 15, 21.0: 12, 0.0: 12, 10.0: 10, 15.0: 9, 13.0: 8, 7.0: 8, 1.0: 8, 18.0: 7, 28.0: 6, 30.0: 5, 24.0: 4, 5.0: 3, 3.0: 3, 26.0: 2})\n",
      "Results in 178 step: Counter({22.0: 156, 9.0: 154, 29.0: 50, 14.0: 48, 6.0: 47, 2.0: 46, 25.0: 46, 17.0: 45, 8.0: 41, 11.0: 39, 20.0: 36, 12.0: 30, 23.0: 30, 19.0: 28, 10.0: 25, 30.0: 25, 27.0: 23, 4.0: 19, 15.0: 17, 1.0: 15, 16.0: 14, 13.0: 14, 21.0: 13, 7.0: 9, 18.0: 6, 31.0: 5, 24.0: 4, 28.0: 4, 0.0: 3, 3.0: 3, 5.0: 3, 26.0: 2})\n",
      "Results in 179 step: Counter({9.0: 161, 22.0: 151, 6.0: 56, 2.0: 51, 29.0: 48, 23.0: 47, 25.0: 47, 14.0: 44, 8.0: 43, 17.0: 39, 11.0: 36, 12.0: 28, 20.0: 28, 10.0: 23, 21.0: 22, 30.0: 22, 19.0: 21, 1.0: 21, 27.0: 19, 16.0: 15, 15.0: 15, 4.0: 12, 24.0: 9, 28.0: 8, 13.0: 8, 18.0: 8, 7.0: 7, 26.0: 4, 5.0: 3, 3.0: 3, 31.0: 1})\n",
      "Results in 180 step: Counter({22.0: 175, 9.0: 163, 17.0: 52, 25.0: 49, 14.0: 47, 29.0: 45, 6.0: 43, 2.0: 40, 20.0: 38, 11.0: 36, 23.0: 34, 8.0: 33, 12.0: 30, 16.0: 25, 21.0: 24, 15.0: 23, 19.0: 21, 10.0: 18, 27.0: 17, 4.0: 17, 30.0: 11, 7.0: 9, 24.0: 8, 28.0: 7, 1.0: 7, 13.0: 7, 3.0: 6, 18.0: 6, 0.0: 4, 5.0: 2, 26.0: 2, 31.0: 1})\n",
      "Results in 181 step: Counter({9.0: 158, 22.0: 157, 14.0: 79, 29.0: 63, 17.0: 60, 6.0: 55, 25.0: 43, 2.0: 42, 11.0: 35, 23.0: 34, 20.0: 30, 12.0: 27, 8.0: 26, 19.0: 24, 10.0: 21, 4.0: 17, 15.0: 17, 16.0: 14, 31.0: 13, 21.0: 12, 26.0: 11, 7.0: 9, 24.0: 9, 0.0: 8, 27.0: 8, 28.0: 7, 5.0: 6, 3.0: 6, 13.0: 4, 18.0: 2, 1.0: 2, 30.0: 1})\n",
      "Results in 182 step: Counter({22.0: 165, 9.0: 149, 17.0: 61, 6.0: 56, 11.0: 51, 14.0: 48, 20.0: 45, 29.0: 44, 25.0: 43, 23.0: 42, 2.0: 33, 19.0: 32, 8.0: 31, 12.0: 30, 1.0: 20, 10.0: 19, 27.0: 17, 4.0: 15, 13.0: 14, 16.0: 14, 21.0: 13, 30.0: 10, 18.0: 9, 24.0: 8, 15.0: 8, 31.0: 6, 7.0: 5, 5.0: 4, 26.0: 4, 0.0: 2, 3.0: 1, 28.0: 1})\n",
      "Results in 183 step: Counter({22.0: 161, 9.0: 129, 6.0: 57, 17.0: 52, 29.0: 51, 20.0: 50, 25.0: 49, 2.0: 43, 19.0: 38, 23.0: 36, 14.0: 36, 11.0: 34, 8.0: 31, 12.0: 30, 27.0: 24, 30.0: 23, 1.0: 20, 4.0: 20, 21.0: 18, 16.0: 16, 10.0: 14, 0.0: 11, 15.0: 11, 31.0: 10, 13.0: 8, 18.0: 8, 7.0: 7, 24.0: 6, 26.0: 6, 28.0: 1})\n",
      "Results in 184 step: Counter({9.0: 180, 22.0: 154, 6.0: 56, 25.0: 54, 14.0: 48, 29.0: 48, 2.0: 48, 11.0: 44, 20.0: 41, 17.0: 40, 23.0: 40, 12.0: 30, 8.0: 27, 27.0: 25, 19.0: 19, 4.0: 18, 10.0: 15, 1.0: 13, 21.0: 13, 15.0: 12, 16.0: 10, 30.0: 9, 31.0: 9, 7.0: 8, 24.0: 8, 13.0: 7, 26.0: 6, 0.0: 5, 18.0: 5, 5.0: 5, 3.0: 3})\n",
      "Results in 185 step: Counter({9.0: 165, 22.0: 153, 6.0: 54, 17.0: 54, 25.0: 53, 29.0: 51, 14.0: 50, 2.0: 49, 11.0: 45, 20.0: 42, 19.0: 33, 27.0: 28, 8.0: 26, 12.0: 22, 16.0: 21, 10.0: 18, 15.0: 17, 23.0: 16, 0.0: 15, 21.0: 14, 4.0: 13, 7.0: 10, 31.0: 9, 28.0: 9, 18.0: 8, 3.0: 7, 24.0: 6, 5.0: 5, 13.0: 4, 30.0: 1, 26.0: 1, 1.0: 1})\n",
      "Results in 186 step: Counter({9.0: 162, 22.0: 154, 6.0: 54, 17.0: 54, 29.0: 49, 2.0: 49, 25.0: 48, 23.0: 44, 14.0: 43, 21.0: 38, 19.0: 31, 11.0: 31, 8.0: 30, 20.0: 30, 10.0: 24, 15.0: 23, 16.0: 20, 12.0: 19, 27.0: 18, 4.0: 15, 18.0: 10, 1.0: 9, 3.0: 7, 31.0: 7, 30.0: 7, 7.0: 5, 28.0: 4, 0.0: 4, 13.0: 4, 24.0: 3, 26.0: 3, 5.0: 1})\n",
      "Results in 187 step: Counter({9.0: 163, 22.0: 153, 14.0: 55, 17.0: 50, 6.0: 49, 25.0: 48, 8.0: 44, 29.0: 43, 30.0: 41, 2.0: 39, 1.0: 35, 23.0: 35, 21.0: 30, 11.0: 29, 20.0: 25, 12.0: 22, 19.0: 20, 15.0: 16, 4.0: 16, 10.0: 16, 16.0: 15, 13.0: 11, 24.0: 9, 27.0: 7, 26.0: 7, 18.0: 6, 3.0: 5, 7.0: 3, 28.0: 3, 0.0: 2, 5.0: 2, 31.0: 1})\n",
      "Results in 188 step: Counter({22.0: 169, 9.0: 159, 17.0: 56, 29.0: 56, 6.0: 48, 14.0: 46, 8.0: 45, 23.0: 44, 25.0: 43, 11.0: 36, 2.0: 35, 20.0: 32, 19.0: 29, 12.0: 21, 4.0: 20, 30.0: 20, 21.0: 19, 1.0: 17, 15.0: 17, 16.0: 17, 27.0: 11, 10.0: 10, 18.0: 8, 26.0: 8, 0.0: 7, 31.0: 6, 13.0: 5, 24.0: 5, 7.0: 4, 3.0: 3, 28.0: 3, 5.0: 1})\n",
      "Results in 189 step: Counter({22.0: 176, 9.0: 163, 14.0: 68, 6.0: 56, 25.0: 55, 29.0: 49, 17.0: 45, 20.0: 44, 11.0: 42, 2.0: 38, 12.0: 31, 19.0: 28, 23.0: 25, 16.0: 21, 15.0: 21, 8.0: 18, 4.0: 16, 27.0: 14, 21.0: 12, 10.0: 10, 0.0: 9, 28.0: 8, 5.0: 8, 31.0: 8, 24.0: 7, 26.0: 6, 7.0: 5, 13.0: 4, 30.0: 4, 3.0: 3, 18.0: 3, 1.0: 3})\n",
      "Results in 190 step: Counter({9.0: 164, 22.0: 163, 25.0: 67, 6.0: 61, 20.0: 58, 17.0: 56, 14.0: 48, 2.0: 42, 29.0: 42, 11.0: 36, 12.0: 36, 19.0: 32, 8.0: 25, 23.0: 23, 4.0: 20, 0.0: 18, 27.0: 15, 15.0: 14, 21.0: 10, 31.0: 10, 16.0: 8, 28.0: 8, 7.0: 7, 13.0: 7, 5.0: 7, 10.0: 6, 1.0: 5, 24.0: 4, 3.0: 3, 18.0: 2, 26.0: 2, 30.0: 1})\n",
      "Results in 191 step: Counter({9.0: 158, 22.0: 151, 14.0: 54, 25.0: 52, 29.0: 52, 17.0: 50, 6.0: 48, 11.0: 46, 2.0: 46, 20.0: 44, 8.0: 40, 27.0: 35, 19.0: 31, 23.0: 30, 12.0: 28, 4.0: 18, 30.0: 15, 1.0: 14, 21.0: 14, 15.0: 12, 18.0: 11, 10.0: 10, 31.0: 8, 5.0: 7, 13.0: 6, 16.0: 6, 0.0: 6, 7.0: 5, 24.0: 2, 26.0: 1})\n",
      "Results in 192 step: Counter({22.0: 174, 9.0: 157, 25.0: 65, 14.0: 63, 20.0: 63, 17.0: 51, 6.0: 49, 11.0: 41, 29.0: 38, 12.0: 34, 2.0: 31, 23.0: 27, 4.0: 25, 19.0: 25, 8.0: 23, 15.0: 19, 27.0: 17, 16.0: 12, 18.0: 12, 0.0: 11, 30.0: 10, 24.0: 8, 21.0: 8, 26.0: 7, 10.0: 6, 1.0: 6, 7.0: 5, 31.0: 5, 13.0: 4, 5.0: 2, 3.0: 2})\n",
      "Results in 193 step: Counter({9.0: 165, 22.0: 156, 6.0: 69, 25.0: 65, 14.0: 62, 17.0: 58, 20.0: 46, 2.0: 44, 29.0: 41, 11.0: 36, 8.0: 30, 12.0: 28, 4.0: 27, 27.0: 26, 19.0: 23, 15.0: 17, 23.0: 17, 21.0: 10, 16.0: 10, 18.0: 9, 13.0: 7, 1.0: 7, 26.0: 7, 31.0: 7, 7.0: 6, 28.0: 6, 0.0: 5, 5.0: 5, 24.0: 4, 10.0: 3, 30.0: 2, 3.0: 2})\n",
      "Results in 194 step: Counter({9.0: 171, 22.0: 161, 25.0: 60, 2.0: 56, 17.0: 54, 29.0: 52, 14.0: 44, 11.0: 39, 6.0: 35, 23.0: 34, 12.0: 30, 20.0: 29, 8.0: 27, 16.0: 24, 21.0: 22, 15.0: 21, 27.0: 21, 4.0: 18, 19.0: 18, 10.0: 11, 0.0: 11, 18.0: 9, 31.0: 8, 13.0: 7, 24.0: 7, 30.0: 7, 26.0: 6, 1.0: 6, 7.0: 4, 28.0: 3, 3.0: 3, 5.0: 2})\n",
      "Results in 195 step: Counter({9.0: 168, 22.0: 151, 14.0: 52, 29.0: 51, 25.0: 48, 2.0: 48, 6.0: 42, 17.0: 40, 12.0: 39, 23.0: 34, 19.0: 34, 8.0: 34, 20.0: 33, 10.0: 28, 11.0: 25, 1.0: 23, 16.0: 23, 21.0: 20, 15.0: 20, 30.0: 13, 4.0: 13, 27.0: 10, 3.0: 7, 13.0: 7, 26.0: 7, 28.0: 6, 18.0: 6, 24.0: 5, 31.0: 5, 5.0: 4, 7.0: 3, 0.0: 1})\n",
      "Results in 196 step: Counter({22.0: 179, 9.0: 146, 25.0: 50, 2.0: 48, 14.0: 48, 29.0: 46, 17.0: 44, 8.0: 42, 6.0: 40, 11.0: 36, 12.0: 33, 23.0: 33, 30.0: 29, 20.0: 26, 10.0: 25, 21.0: 25, 1.0: 20, 16.0: 19, 19.0: 18, 27.0: 16, 15.0: 13, 18.0: 12, 7.0: 9, 5.0: 8, 4.0: 8, 24.0: 7, 3.0: 6, 28.0: 5, 13.0: 4, 26.0: 4, 31.0: 1})\n",
      "Results in 197 step: Counter({22.0: 162, 9.0: 158, 29.0: 59, 6.0: 58, 17.0: 50, 2.0: 49, 8.0: 47, 20.0: 45, 25.0: 41, 14.0: 34, 12.0: 32, 19.0: 30, 21.0: 25, 23.0: 25, 4.0: 23, 16.0: 18, 11.0: 18, 27.0: 16, 10.0: 14, 15.0: 13, 1.0: 13, 18.0: 11, 30.0: 11, 13.0: 10, 26.0: 8, 24.0: 7, 3.0: 6, 28.0: 6, 5.0: 5, 31.0: 3, 7.0: 2, 0.0: 1})\n",
      "Results in 198 step: Counter({9.0: 178, 22.0: 154, 14.0: 66, 25.0: 57, 2.0: 53, 17.0: 42, 29.0: 40, 6.0: 40, 20.0: 38, 11.0: 36, 8.0: 36, 19.0: 27, 12.0: 27, 23.0: 25, 15.0: 25, 27.0: 19, 16.0: 18, 4.0: 16, 21.0: 16, 10.0: 13, 1.0: 13, 13.0: 10, 24.0: 8, 18.0: 7, 30.0: 6, 7.0: 6, 3.0: 6, 0.0: 6, 5.0: 3, 26.0: 3, 28.0: 3, 31.0: 3})\n",
      "Results in 199 step: Counter({9.0: 175, 22.0: 156, 14.0: 58, 17.0: 55, 29.0: 51, 25.0: 50, 2.0: 48, 20.0: 45, 6.0: 42, 11.0: 38, 12.0: 36, 8.0: 35, 23.0: 22, 19.0: 20, 16.0: 17, 27.0: 16, 4.0: 16, 10.0: 15, 15.0: 14, 18.0: 13, 24.0: 12, 21.0: 11, 5.0: 10, 7.0: 8, 0.0: 8, 1.0: 8, 30.0: 5, 13.0: 4, 26.0: 4, 31.0: 4, 28.0: 2, 3.0: 2})\n",
      "Final results: Counter({9.0: 173, 22.0: 157, 25.0: 55, 14.0: 55, 17.0: 51, 6.0: 47, 29.0: 45, 20.0: 41, 2.0: 39, 23.0: 35, 12.0: 32, 11.0: 29, 8.0: 27, 4.0: 21, 19.0: 19, 15.0: 18, 27.0: 18, 10.0: 17, 16.0: 14, 7.0: 14, 1.0: 13, 30.0: 13, 21.0: 12, 18.0: 9, 24.0: 9, 31.0: 8, 13.0: 7, 28.0: 6, 0.0: 6, 5.0: 6, 3.0: 2, 26.0: 2})\n"
     ]
    }
   ],
   "source": [
    "if __name__ == '__main__':\n",
    "    params = 0.01*np.random.rand(2, layersNumber)\n",
    "    optimizer = getOptimizer(optimizerName=\"Adam\", stepSize=0.3)\n",
    "    stepNumber = 200\n",
    "    for i in range(stepNumber):\n",
    "        params = optimizer.step(costFunction, params)\n",
    "        print(\"Results in \" + str(i) + \" step: \" + str(getMaxCutSolution(params)))\n",
    "    print(\"Final results: \" + str(getMaxCutSolution(params)))"
   ]
  },
  {
   "cell_type": "code",
   "execution_count": 337,
   "metadata": {},
   "outputs": [
    {
     "output_type": "stream",
     "name": "stdout",
     "text": [
      " 0: ──H──╭C────────────╭C──╭C─────────────╭C───RX(-1)─────────────────────────────────────────────────────────────────────────────────────────╭┤ Sample[H0] \n 1: ──H──╰X──RZ(2.21)──╰X──│──────────────│───╭C─────────────────╭C──╭C────────────╭C───RX(-1)────────────────────────────────────────────────├┤ Sample[H0] \n 2: ──H────────────────────╰X──RZ(0.442)──╰X──╰X───────RZ(3.09)──╰X──│─────────────│───╭C──────────────────╭C───RX(-1)────────────────────────├┤ Sample[H0] \n 3: ──H──────────────────────────────────────────────────────────────╰X──RZ(1.77)──╰X──╰X───────RZ(0.883)──╰X──╭C─────────────────╭C──RX(-1)──├┤ Sample[H0] \n 4: ──H────────────────────────────────────────────────────────────────────────────────────────────────────────╰X───────RZ(1.33)──╰X──RX(-1)──╰┤ Sample[H0] \nH0 =\n[[ 0  0  0 ...  0  0  0]\n [ 0  1  0 ...  0  0  0]\n [ 0  0  2 ...  0  0  0]\n ...\n [ 0  0  0 ... 29  0  0]\n [ 0  0  0 ...  0 30  0]\n [ 0  0  0 ...  0  0 31]]\n\n"
     ]
    }
   ],
   "source": [
    "    drawer = qml.draw(circuit)\n",
    "    print(drawer(params[0],params[1]))"
   ]
  }
 ]
}