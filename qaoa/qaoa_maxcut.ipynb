{
 "metadata": {
  "language_info": {
   "codemirror_mode": {
    "name": "ipython",
    "version": 3
   },
   "file_extension": ".py",
   "mimetype": "text/x-python",
   "name": "python",
   "nbconvert_exporter": "python",
   "pygments_lexer": "ipython3",
   "version": "3.8.5"
  },
  "orig_nbformat": 4,
  "kernelspec": {
   "name": "python3",
   "display_name": "Python 3.8.5 64-bit ('pennylane-qiskit-env': venv)"
  },
  "interpreter": {
   "hash": "4c8470158236c478be0ed2c28ab96d78cff446d063c81a6a4a65ad12c789b187"
  }
 },
 "nbformat": 4,
 "nbformat_minor": 2,
 "cells": [
  {
   "cell_type": "code",
   "execution_count": 73,
   "metadata": {},
   "outputs": [],
   "source": [
    "import networkx as nx\n",
    "import pennylane as qml\n",
    "from pennylane import numpy as np\n",
    "import collections\n"
   ]
  },
  {
   "cell_type": "code",
   "execution_count": 74,
   "metadata": {},
   "outputs": [],
   "source": [
    "def getGraphFromFile():\n",
    "    graph = nx.read_edgelist('graph.txt', nodetype=int,\n",
    "    data=(('weight',int),), create_using=nx.Graph())\n",
    "    return graph"
   ]
  },
  {
   "cell_type": "code",
   "execution_count": 75,
   "metadata": {},
   "outputs": [
    {
     "output_type": "execute_result",
     "data": {
      "text/plain": [
       "{(0, 1): Text(-0.3544361197442904, 0.33128257716277043, '10'),\n",
       " (0, 3): Text(0.2252284864934673, 0.4247868297385914, '10'),\n",
       " (1, 2): Text(-0.22522848649346722, -0.4247868297385914, '1'),\n",
       " (2, 3): Text(0.3544361197442905, -0.33128257716277043, '1')}"
      ]
     },
     "metadata": {},
     "execution_count": 75
    },
    {
     "output_type": "display_data",
     "data": {
      "text/plain": "<Figure size 432x288 with 1 Axes>",
      "image/svg+xml": "<?xml version=\"1.0\" encoding=\"utf-8\" standalone=\"no\"?>\n<!DOCTYPE svg PUBLIC \"-//W3C//DTD SVG 1.1//EN\"\n  \"http://www.w3.org/Graphics/SVG/1.1/DTD/svg11.dtd\">\n<svg height=\"302.4pt\" version=\"1.1\" viewBox=\"0 0 446.4 302.4\" width=\"446.4pt\" xmlns=\"http://www.w3.org/2000/svg\" xmlns:xlink=\"http://www.w3.org/1999/xlink\">\n <metadata>\n  <rdf:RDF xmlns:cc=\"http://creativecommons.org/ns#\" xmlns:dc=\"http://purl.org/dc/elements/1.1/\" xmlns:rdf=\"http://www.w3.org/1999/02/22-rdf-syntax-ns#\">\n   <cc:Work>\n    <dc:type rdf:resource=\"http://purl.org/dc/dcmitype/StillImage\"/>\n    <dc:date>1970-01-01T07:12:54.824508</dc:date>\n    <dc:format>image/svg+xml</dc:format>\n    <dc:creator>\n     <cc:Agent>\n      <dc:title>Matplotlib v3.4.2, https://matplotlib.org/</dc:title>\n     </cc:Agent>\n    </dc:creator>\n   </cc:Work>\n  </rdf:RDF>\n </metadata>\n <defs>\n  <style type=\"text/css\">*{stroke-linecap:butt;stroke-linejoin:round;}</style>\n </defs>\n <g id=\"figure_1\">\n  <g id=\"patch_1\">\n   <path d=\"M 0 302.4 \nL 446.4 302.4 \nL 446.4 0 \nL 0 0 \nz\n\" style=\"fill:#ffffff;\"/>\n  </g>\n  <g id=\"axes_1\">\n   <g id=\"LineCollection_1\">\n    <path clip-path=\"url(#pc3d322b258)\" d=\"M 203.987809 20.290909 \nL 26.836364 82.919354 \n\" style=\"fill:none;stroke:#000000;\"/>\n    <path clip-path=\"url(#pc3d322b258)\" d=\"M 203.987809 20.290909 \nL 419.563636 50.539901 \n\" style=\"fill:none;stroke:#000000;\"/>\n    <path clip-path=\"url(#pc3d322b258)\" d=\"M 26.836364 82.919354 \nL 291.526984 282.109091 \n\" style=\"fill:none;stroke:#000000;\"/>\n    <path clip-path=\"url(#pc3d322b258)\" d=\"M 291.526984 282.109091 \nL 419.563636 50.539901 \n\" style=\"fill:none;stroke:#000000;\"/>\n   </g>\n   <g id=\"text_1\">\n    <g id=\"patch_2\">\n     <path clip-path=\"url(#pc3d322b258)\" d=\"M 112.026291 61.116635 \nL 124.023622 56.875212 \nQ 126.85207 55.87527 125.852127 53.046822 \nL 122.626271 43.922133 \nQ 121.626329 41.093685 118.797881 42.093628 \nL 106.80055 46.335051 \nQ 103.972102 47.334993 104.972045 50.163441 \nL 108.197901 59.28813 \nQ 109.197844 62.116578 112.026291 61.116635 \nz\n\" style=\"fill:#ffffff;stroke:#ffffff;stroke-linejoin:miter;\"/>\n    </g>\n    <g clip-path=\"url(#pc3d322b258)\">\n     <!-- 10 -->\n     <g transform=\"translate(110.333159 56.327425)rotate(-19.470056)scale(0.1 -0.1)\">\n      <defs>\n       <path d=\"M 794 531 \nL 1825 531 \nL 1825 4091 \nL 703 3866 \nL 703 4441 \nL 1819 4666 \nL 2450 4666 \nL 2450 531 \nL 3481 531 \nL 3481 0 \nL 794 0 \nL 794 531 \nz\n\" id=\"DejaVuSans-31\" transform=\"scale(0.015625)\"/>\n       <path d=\"M 2034 4250 \nQ 1547 4250 1301 3770 \nQ 1056 3291 1056 2328 \nQ 1056 1369 1301 889 \nQ 1547 409 2034 409 \nQ 2525 409 2770 889 \nQ 3016 1369 3016 2328 \nQ 3016 3291 2770 3770 \nQ 2525 4250 2034 4250 \nz\nM 2034 4750 \nQ 2819 4750 3233 4129 \nQ 3647 3509 3647 2328 \nQ 3647 1150 3233 529 \nQ 2819 -91 2034 -91 \nQ 1250 -91 836 529 \nQ 422 1150 422 2328 \nQ 422 3509 836 4129 \nQ 1250 4750 2034 4750 \nz\n\" id=\"DejaVuSans-30\" transform=\"scale(0.015625)\"/>\n      </defs>\n      <use xlink:href=\"#DejaVuSans-31\"/>\n      <use x=\"63.623047\" xlink:href=\"#DejaVuSans-30\"/>\n     </g>\n    </g>\n   </g>\n   <g id=\"text_2\">\n    <g id=\"patch_3\">\n     <path clip-path=\"url(#pc3d322b258)\" d=\"M 304.385664 42.294311 \nL 316.987213 44.062525 \nQ 319.958109 44.479392 320.374977 41.508497 \nL 321.719809 31.924263 \nQ 322.136677 28.953367 319.165781 28.5365 \nL 306.564232 26.768286 \nQ 303.593336 26.351418 303.176468 29.322314 \nL 301.831636 38.906547 \nQ 301.414768 41.877443 304.385664 42.294311 \nz\n\" style=\"fill:#ffffff;stroke:#ffffff;stroke-linejoin:miter;\"/>\n    </g>\n    <g clip-path=\"url(#pc3d322b258)\">\n     <!-- 10 -->\n     <g transform=\"translate(305.091516 37.263903)rotate(-352.012567)scale(0.1 -0.1)\">\n      <use xlink:href=\"#DejaVuSans-31\"/>\n      <use x=\"63.623047\" xlink:href=\"#DejaVuSans-30\"/>\n     </g>\n    </g>\n   </g>\n   <g id=\"text_3\">\n    <g id=\"patch_4\">\n     <path clip-path=\"url(#pc3d322b258)\" d=\"M 151.926168 186.864957 \nL 157.009969 190.69071 \nQ 159.407045 192.494601 161.210936 190.097524 \nL 167.030364 182.364455 \nQ 168.834256 179.967378 166.437179 178.163487 \nL 161.353379 174.337735 \nQ 158.956302 172.533844 157.152411 174.93092 \nL 151.332983 182.66399 \nQ 149.529092 185.061066 151.926168 186.864957 \nz\n\" style=\"fill:#ffffff;stroke:#ffffff;stroke-linejoin:miter;\"/>\n    </g>\n    <g clip-path=\"url(#pc3d322b258)\">\n     <!-- 1 -->\n     <g transform=\"translate(154.98057 182.806157)rotate(-323.037151)scale(0.1 -0.1)\">\n      <use xlink:href=\"#DejaVuSans-31\"/>\n     </g>\n    </g>\n   </g>\n   <g id=\"text_4\">\n    <g id=\"patch_5\">\n     <path clip-path=\"url(#pc3d322b258)\" d=\"M 360.86626 172.901634 \nL 363.944895 167.333564 \nQ 365.396511 164.708147 362.771095 163.256531 \nL 354.301392 158.573558 \nQ 351.675976 157.121942 350.22436 159.747358 \nL 347.145725 165.315429 \nQ 345.694109 167.940845 348.319525 169.392461 \nL 356.789228 174.075435 \nQ 359.414644 175.52705 360.86626 172.901634 \nz\n\" style=\"fill:#ffffff;stroke:#ffffff;stroke-linejoin:miter;\"/>\n    </g>\n    <g clip-path=\"url(#pc3d322b258)\">\n     <!-- 1 -->\n     <g transform=\"translate(356.420828 170.443716)rotate(-61.061406)scale(0.1 -0.1)\">\n      <use xlink:href=\"#DejaVuSans-31\"/>\n     </g>\n    </g>\n   </g>\n   <g id=\"PathCollection_1\">\n    <defs>\n     <path d=\"M 0 8.660254 \nC 2.296726 8.660254 4.499694 7.747755 6.123724 6.123724 \nC 7.747755 4.499694 8.660254 2.296726 8.660254 0 \nC 8.660254 -2.296726 7.747755 -4.499694 6.123724 -6.123724 \nC 4.499694 -7.747755 2.296726 -8.660254 0 -8.660254 \nC -2.296726 -8.660254 -4.499694 -7.747755 -6.123724 -6.123724 \nC -7.747755 -4.499694 -8.660254 -2.296726 -8.660254 0 \nC -8.660254 2.296726 -7.747755 4.499694 -6.123724 6.123724 \nC -4.499694 7.747755 -2.296726 8.660254 0 8.660254 \nz\n\" id=\"ma954abe648\" style=\"stroke:#1f78b4;\"/>\n    </defs>\n    <g clip-path=\"url(#pc3d322b258)\">\n     <use style=\"fill:#1f78b4;stroke:#1f78b4;\" x=\"203.987809\" xlink:href=\"#ma954abe648\" y=\"20.290909\"/>\n     <use style=\"fill:#1f78b4;stroke:#1f78b4;\" x=\"26.836364\" xlink:href=\"#ma954abe648\" y=\"82.919354\"/>\n     <use style=\"fill:#1f78b4;stroke:#1f78b4;\" x=\"291.526984\" xlink:href=\"#ma954abe648\" y=\"282.109091\"/>\n     <use style=\"fill:#1f78b4;stroke:#1f78b4;\" x=\"419.563636\" xlink:href=\"#ma954abe648\" y=\"50.539901\"/>\n    </g>\n   </g>\n   <g id=\"text_5\">\n    <g clip-path=\"url(#pc3d322b258)\">\n     <!-- 0 -->\n     <g transform=\"translate(200.170309 23.602159)scale(0.12 -0.12)\">\n      <use xlink:href=\"#DejaVuSans-30\"/>\n     </g>\n    </g>\n   </g>\n   <g id=\"text_6\">\n    <g clip-path=\"url(#pc3d322b258)\">\n     <!-- 1 -->\n     <g transform=\"translate(23.018864 86.230604)scale(0.12 -0.12)\">\n      <use xlink:href=\"#DejaVuSans-31\"/>\n     </g>\n    </g>\n   </g>\n   <g id=\"text_7\">\n    <g clip-path=\"url(#pc3d322b258)\">\n     <!-- 2 -->\n     <g transform=\"translate(287.709484 285.420341)scale(0.12 -0.12)\">\n      <defs>\n       <path d=\"M 1228 531 \nL 3431 531 \nL 3431 0 \nL 469 0 \nL 469 531 \nQ 828 903 1448 1529 \nQ 2069 2156 2228 2338 \nQ 2531 2678 2651 2914 \nQ 2772 3150 2772 3378 \nQ 2772 3750 2511 3984 \nQ 2250 4219 1831 4219 \nQ 1534 4219 1204 4116 \nQ 875 4013 500 3803 \nL 500 4441 \nQ 881 4594 1212 4672 \nQ 1544 4750 1819 4750 \nQ 2544 4750 2975 4387 \nQ 3406 4025 3406 3419 \nQ 3406 3131 3298 2873 \nQ 3191 2616 2906 2266 \nQ 2828 2175 2409 1742 \nQ 1991 1309 1228 531 \nz\n\" id=\"DejaVuSans-32\" transform=\"scale(0.015625)\"/>\n      </defs>\n      <use xlink:href=\"#DejaVuSans-32\"/>\n     </g>\n    </g>\n   </g>\n   <g id=\"text_8\">\n    <g clip-path=\"url(#pc3d322b258)\">\n     <!-- 3 -->\n     <g transform=\"translate(415.746136 53.851151)scale(0.12 -0.12)\">\n      <defs>\n       <path d=\"M 2597 2516 \nQ 3050 2419 3304 2112 \nQ 3559 1806 3559 1356 \nQ 3559 666 3084 287 \nQ 2609 -91 1734 -91 \nQ 1441 -91 1130 -33 \nQ 819 25 488 141 \nL 488 750 \nQ 750 597 1062 519 \nQ 1375 441 1716 441 \nQ 2309 441 2620 675 \nQ 2931 909 2931 1356 \nQ 2931 1769 2642 2001 \nQ 2353 2234 1838 2234 \nL 1294 2234 \nL 1294 2753 \nL 1863 2753 \nQ 2328 2753 2575 2939 \nQ 2822 3125 2822 3475 \nQ 2822 3834 2567 4026 \nQ 2313 4219 1838 4219 \nQ 1578 4219 1281 4162 \nQ 984 4106 628 3988 \nL 628 4550 \nQ 988 4650 1302 4700 \nQ 1616 4750 1894 4750 \nQ 2613 4750 3031 4423 \nQ 3450 4097 3450 3541 \nQ 3450 3153 3228 2886 \nQ 3006 2619 2597 2516 \nz\n\" id=\"DejaVuSans-33\" transform=\"scale(0.015625)\"/>\n      </defs>\n      <use xlink:href=\"#DejaVuSans-33\"/>\n     </g>\n    </g>\n   </g>\n  </g>\n </g>\n <defs>\n  <clipPath id=\"pc3d322b258\">\n   <rect height=\"288\" width=\"432\" x=\"7.2\" y=\"7.2\"/>\n  </clipPath>\n </defs>\n</svg>\n",
      "image/png": "[encoded data removed]"
     },
     "metadata": {}
    }
   ],
   "source": [
    "graph = getGraphFromFile()\n",
    "pos = nx.spring_layout(graph)\n",
    "nx.draw(graph,pos,with_labels=1)\n",
    "labels = nx.get_edge_attributes(graph,'weight')\n",
    "nx.draw_networkx_edge_labels(graph,pos,edge_labels=labels)"
   ]
  },
  {
   "cell_type": "code",
   "execution_count": 76,
   "metadata": {},
   "outputs": [],
   "source": [
    "qubitNumber = graph.number_of_edges()\n",
    "layerNumber = 1\n",
    "shotsNumber = 1000\n",
    "device = qml.device(\"default.qubit\", wires=qubitNumber, shots=shotsNumber)"
   ]
  },
  {
   "cell_type": "code",
   "execution_count": 77,
   "metadata": {},
   "outputs": [],
   "source": [
    "def U_b(beta):\n",
    "    for qubit in range(qubitNumber):\n",
    "        qml.RX(2*beta, wires=qubit)"
   ]
  },
  {
   "cell_type": "code",
   "execution_count": 78,
   "metadata": {},
   "outputs": [],
   "source": [
    "def U_c(gamma):\n",
    "    for i,j in graph.edges():\n",
    "        weight = graph.get_edge_data(i,j)['weight']\n",
    "        qml.CNOT(wires=[i,j])\n",
    "        qml.RZ(weight*gamma, wires = j)\n",
    "        qml.CNOT(wires=[i,j])"
   ]
  },
  {
   "cell_type": "code",
   "execution_count": 79,
   "metadata": {},
   "outputs": [],
   "source": [
    "def compBasisMeasurement(wires):\n",
    "    n_wires = len(wires)\n",
    "    return qml.Hermitian(np.diag(range(2 ** n_wires)), wires=wires)"
   ]
  },
  {
   "cell_type": "code",
   "execution_count": 80,
   "metadata": {},
   "outputs": [],
   "source": [
    "pauli_z = [[1, 0], [0, -1]]\n",
    "pauli_z_2 = np.kron(pauli_z, pauli_z, requires_grad=False)\n",
    "\n",
    "@qml.qnode(device)\n",
    "def circuit(gammas, betas, edge=None):\n",
    "\n",
    "    for i in range(0,qubitNumber):\n",
    "        qml.Hadamard(wires=i)\n",
    "\n",
    "    for i in range(0,layerNumber):\n",
    "        U_c(gammas[i])\n",
    "        U_b(betas[i])\n",
    "\n",
    "    if edge is None:\n",
    "        return qml.sample(compBasisMeasurement(range(qubitNumber)))\n",
    "\n",
    "    return qml.expval(qml.Hermitian(pauli_z_2, wires=edge))"
   ]
  },
  {
   "cell_type": "code",
   "execution_count": 81,
   "metadata": {},
   "outputs": [],
   "source": [
    "def costFunction(params):\n",
    "    gammas = params[0]\n",
    "    betas = params[1]\n",
    "    cost = 0\n",
    "    for i,j in graph.edges():\n",
    "        weight = graph.get_edge_data(i,j)['weight']\n",
    "        cost -= 0.5*weight*(1-circuit(gammas, betas, edge=[i,j]))\n",
    "    return cost"
   ]
  },
  {
   "cell_type": "code",
   "execution_count": 82,
   "metadata": {},
   "outputs": [],
   "source": [
    "def getMaxCutSolution(params):\n",
    "    gammas = params[0]\n",
    "    betas = params[1]\n",
    "    outputDecimal = circuit(gammas, betas)\n",
    "    occurrences = collections.Counter(outputDecimal)\n",
    "    return occurrences"
   ]
  },
  {
   "cell_type": "code",
   "execution_count": 83,
   "metadata": {},
   "outputs": [],
   "source": [
    "def getOptimizer(optimizerName=\"GradientDescent\", stepSize=0.01):\n",
    "    if optimizerName == \"GradientDescent\":\n",
    "        return qml.GradientDescentOptimizer(stepsize=stepSize)\n",
    "    if optimizerName == \"Adam\":\n",
    "        return qml.AdamOptimizer(stepsize=stepSize)\n",
    "    if optimizerName == \"NesterovMomentum\":\n",
    "        return qml.NesterovMomentumOptimizer(stepsize=stepSize)\n",
    "    if optimizerName == \"Adagrad\":\n",
    "        return qml.AdagradOptimizer(stepsize=stepSize)"
   ]
  },
  {
   "cell_type": "code",
   "execution_count": 84,
   "metadata": {
    "tags": [
     "outputPrepend"
    ]
   },
   "outputs": [
    {
     "output_type": "stream",
     "name": "stdout",
     "text": [
      " 6.0: 79, 9.0: 72, 7.0: 35, 8.0: 25, 0.0: 17, 15.0: 14, 11.0: 13, 1.0: 13, 14.0: 8, 4.0: 6, 2.0: 1})\n",
      "Results in 89 step: Counter({5.0: 260, 10.0: 242, 6.0: 88, 9.0: 88, 12.0: 85, 3.0: 81, 8.0: 40, 15.0: 33, 7.0: 29, 1.0: 16, 0.0: 14, 14.0: 13, 11.0: 9, 4.0: 2})\n",
      "Results in 90 step: Counter({10.0: 277, 5.0: 264, 6.0: 94, 12.0: 81, 3.0: 66, 9.0: 61, 7.0: 30, 8.0: 28, 0.0: 20, 11.0: 16, 4.0: 15, 15.0: 14, 14.0: 11, 13.0: 9, 1.0: 8, 2.0: 6})\n",
      "Results in 91 step: Counter({5.0: 275, 10.0: 261, 12.0: 84, 3.0: 76, 6.0: 67, 9.0: 67, 8.0: 28, 11.0: 21, 7.0: 21, 1.0: 19, 15.0: 19, 4.0: 15, 14.0: 13, 0.0: 12, 2.0: 12, 13.0: 10})\n",
      "Results in 92 step: Counter({5.0: 273, 10.0: 269, 3.0: 79, 12.0: 78, 9.0: 70, 6.0: 56, 7.0: 39, 8.0: 27, 15.0: 21, 0.0: 19, 1.0: 18, 4.0: 18, 11.0: 15, 14.0: 11, 2.0: 4, 13.0: 3})\n",
      "Results in 93 step: Counter({5.0: 285, 10.0: 244, 12.0: 97, 3.0: 83, 6.0: 79, 9.0: 69, 7.0: 34, 8.0: 29, 0.0: 22, 15.0: 16, 11.0: 16, 14.0: 12, 1.0: 8, 4.0: 6})\n",
      "Results in 94 step: Counter({5.0: 281, 10.0: 255, 6.0: 82, 12.0: 76, 3.0: 74, 9.0: 71, 7.0: 29, 8.0: 24, 15.0: 24, 14.0: 20, 0.0: 16, 4.0: 13, 13.0: 11, 1.0: 11, 11.0: 10, 2.0: 3})\n",
      "Results in 95 step: Counter({10.0: 281, 5.0: 268, 3.0: 87, 6.0: 74, 12.0: 72, 9.0: 68, 7.0: 30, 8.0: 26, 1.0: 16, 15.0: 14, 14.0: 14, 11.0: 14, 0.0: 13, 4.0: 10, 2.0: 8, 13.0: 5})\n",
      "Results in 96 step: Counter({10.0: 275, 5.0: 275, 6.0: 84, 9.0: 80, 12.0: 72, 3.0: 62, 7.0: 34, 8.0: 26, 15.0: 22, 0.0: 21, 14.0: 14, 4.0: 12, 11.0: 10, 1.0: 9, 13.0: 3, 2.0: 1})\n",
      "Results in 97 step: Counter({5.0: 265, 10.0: 260, 3.0: 86, 6.0: 81, 12.0: 80, 9.0: 67, 7.0: 31, 15.0: 25, 0.0: 22, 8.0: 21, 1.0: 17, 14.0: 17, 11.0: 13, 4.0: 11, 2.0: 3, 13.0: 1})\n",
      "Results in 98 step: Counter({10.0: 257, 5.0: 232, 6.0: 107, 3.0: 91, 12.0: 80, 9.0: 79, 7.0: 29, 8.0: 28, 11.0: 20, 15.0: 16, 14.0: 15, 1.0: 14, 0.0: 13, 4.0: 12, 2.0: 6, 13.0: 1})\n",
      "Results in 99 step: Counter({10.0: 262, 5.0: 260, 9.0: 90, 6.0: 83, 3.0: 76, 12.0: 64, 7.0: 35, 8.0: 29, 15.0: 27, 14.0: 15, 4.0: 15, 1.0: 13, 0.0: 13, 13.0: 7, 2.0: 6, 11.0: 5})\n",
      "Results in 100 step: Counter({10.0: 255, 5.0: 245, 3.0: 91, 9.0: 83, 6.0: 82, 12.0: 81, 8.0: 29, 7.0: 28, 15.0: 22, 11.0: 19, 0.0: 16, 14.0: 15, 1.0: 14, 4.0: 13, 13.0: 6, 2.0: 1})\n",
      "Results in 101 step: Counter({5.0: 274, 10.0: 255, 9.0: 87, 3.0: 86, 6.0: 75, 12.0: 73, 8.0: 29, 7.0: 29, 15.0: 24, 0.0: 16, 11.0: 14, 4.0: 10, 1.0: 10, 14.0: 8, 2.0: 5, 13.0: 5})\n",
      "Results in 102 step: Counter({5.0: 285, 10.0: 249, 3.0: 85, 9.0: 79, 12.0: 76, 6.0: 73, 7.0: 29, 15.0: 23, 8.0: 20, 4.0: 20, 14.0: 19, 11.0: 17, 1.0: 12, 0.0: 7, 13.0: 3, 2.0: 3})\n",
      "Results in 103 step: Counter({10.0: 274, 5.0: 267, 9.0: 86, 6.0: 83, 12.0: 73, 3.0: 69, 7.0: 28, 8.0: 28, 15.0: 25, 0.0: 23, 1.0: 16, 4.0: 11, 11.0: 9, 14.0: 7, 2.0: 1})\n",
      "Results in 104 step: Counter({5.0: 290, 10.0: 225, 6.0: 87, 12.0: 86, 9.0: 77, 3.0: 74, 7.0: 33, 8.0: 27, 15.0: 20, 14.0: 18, 4.0: 16, 1.0: 14, 0.0: 12, 11.0: 11, 13.0: 6, 2.0: 4})\n",
      "Results in 105 step: Counter({10.0: 260, 5.0: 258, 12.0: 91, 3.0: 79, 9.0: 76, 6.0: 76, 7.0: 27, 8.0: 24, 14.0: 20, 4.0: 18, 1.0: 17, 13.0: 13, 0.0: 12, 11.0: 10, 2.0: 10, 15.0: 9})\n",
      "Results in 106 step: Counter({10.0: 272, 5.0: 259, 6.0: 90, 3.0: 86, 9.0: 71, 12.0: 68, 8.0: 33, 15.0: 23, 7.0: 22, 0.0: 22, 1.0: 18, 14.0: 12, 4.0: 11, 11.0: 9, 2.0: 3, 13.0: 1})\n",
      "Results in 107 step: Counter({10.0: 262, 5.0: 251, 6.0: 95, 9.0: 86, 3.0: 84, 12.0: 80, 8.0: 32, 7.0: 31, 0.0: 19, 15.0: 19, 1.0: 12, 11.0: 10, 4.0: 9, 14.0: 8, 2.0: 1, 13.0: 1})\n",
      "Results in 108 step: Counter({10.0: 268, 5.0: 241, 3.0: 88, 6.0: 80, 9.0: 72, 12.0: 66, 8.0: 38, 7.0: 36, 15.0: 24, 0.0: 23, 4.0: 17, 1.0: 14, 11.0: 14, 14.0: 11, 2.0: 5, 13.0: 3})\n",
      "Results in 109 step: Counter({5.0: 297, 10.0: 254, 6.0: 99, 3.0: 76, 12.0: 70, 9.0: 66, 8.0: 27, 7.0: 24, 15.0: 17, 4.0: 15, 11.0: 12, 14.0: 12, 1.0: 11, 0.0: 8, 13.0: 6, 2.0: 6})\n",
      "Results in 110 step: Counter({10.0: 267, 5.0: 265, 12.0: 85, 3.0: 78, 9.0: 75, 6.0: 65, 8.0: 27, 11.0: 21, 4.0: 21, 14.0: 19, 0.0: 19, 7.0: 17, 1.0: 13, 15.0: 12, 13.0: 10, 2.0: 6})\n",
      "Results in 111 step: Counter({5.0: 275, 10.0: 268, 12.0: 91, 9.0: 81, 6.0: 78, 3.0: 67, 7.0: 30, 15.0: 24, 8.0: 20, 0.0: 18, 1.0: 15, 14.0: 14, 11.0: 11, 4.0: 6, 13.0: 2})\n",
      "Results in 112 step: Counter({10.0: 263, 5.0: 244, 3.0: 95, 9.0: 88, 6.0: 87, 12.0: 75, 8.0: 43, 7.0: 27, 15.0: 20, 0.0: 18, 14.0: 11, 4.0: 9, 11.0: 9, 1.0: 9, 2.0: 1, 13.0: 1})\n",
      "Results in 113 step: Counter({5.0: 273, 10.0: 265, 12.0: 91, 9.0: 78, 3.0: 71, 6.0: 70, 7.0: 28, 8.0: 20, 11.0: 19, 15.0: 15, 0.0: 14, 4.0: 13, 14.0: 12, 1.0: 11, 2.0: 10, 13.0: 10})\n",
      "Results in 114 step: Counter({5.0: 277, 10.0: 234, 6.0: 92, 12.0: 92, 9.0: 89, 3.0: 65, 8.0: 28, 7.0: 27, 15.0: 20, 0.0: 20, 11.0: 14, 14.0: 13, 1.0: 13, 4.0: 11, 2.0: 4, 13.0: 1})\n",
      "Results in 115 step: Counter({5.0: 281, 10.0: 245, 9.0: 96, 3.0: 90, 12.0: 76, 6.0: 71, 15.0: 30, 8.0: 27, 0.0: 24, 7.0: 23, 11.0: 13, 1.0: 12, 14.0: 7, 4.0: 4, 2.0: 1})\n",
      "Results in 116 step: Counter({10.0: 278, 5.0: 242, 3.0: 86, 12.0: 84, 9.0: 78, 6.0: 65, 8.0: 31, 7.0: 29, 0.0: 23, 15.0: 21, 4.0: 18, 1.0: 13, 14.0: 13, 11.0: 12, 13.0: 6, 2.0: 1})\n",
      "Results in 117 step: Counter({5.0: 246, 10.0: 240, 12.0: 87, 3.0: 87, 9.0: 84, 6.0: 76, 8.0: 33, 15.0: 27, 7.0: 27, 14.0: 22, 11.0: 18, 1.0: 18, 0.0: 14, 4.0: 14, 2.0: 4, 13.0: 3})\n",
      "Results in 118 step: Counter({10.0: 286, 5.0: 252, 3.0: 88, 6.0: 82, 9.0: 77, 12.0: 60, 7.0: 30, 8.0: 26, 0.0: 23, 15.0: 23, 1.0: 20, 11.0: 11, 4.0: 11, 14.0: 9, 13.0: 2})\n",
      "Results in 119 step: Counter({10.0: 269, 5.0: 252, 3.0: 86, 12.0: 85, 6.0: 78, 9.0: 75, 7.0: 33, 8.0: 31, 4.0: 17, 0.0: 15, 11.0: 15, 15.0: 14, 1.0: 12, 2.0: 7, 14.0: 6, 13.0: 5})\n",
      "Results in 120 step: Counter({5.0: 274, 10.0: 255, 6.0: 85, 3.0: 80, 9.0: 76, 12.0: 74, 7.0: 33, 8.0: 32, 0.0: 22, 15.0: 22, 4.0: 19, 11.0: 12, 1.0: 9, 14.0: 6, 2.0: 1})\n",
      "Results in 121 step: Counter({5.0: 262, 10.0: 255, 12.0: 97, 6.0: 93, 3.0: 79, 9.0: 68, 0.0: 33, 8.0: 31, 7.0: 24, 15.0: 17, 1.0: 11, 14.0: 11, 4.0: 8, 11.0: 8, 2.0: 2, 13.0: 1})\n",
      "Results in 122 step: Counter({10.0: 258, 5.0: 254, 12.0: 91, 3.0: 90, 6.0: 77, 9.0: 77, 8.0: 39, 7.0: 25, 0.0: 20, 15.0: 15, 4.0: 12, 14.0: 12, 1.0: 11, 11.0: 10, 2.0: 6, 13.0: 3})\n",
      "Results in 123 step: Counter({10.0: 288, 5.0: 253, 6.0: 79, 9.0: 79, 3.0: 76, 12.0: 64, 8.0: 31, 7.0: 29, 0.0: 24, 15.0: 24, 4.0: 16, 1.0: 10, 14.0: 10, 11.0: 8, 2.0: 6, 13.0: 3})\n",
      "Results in 124 step: Counter({10.0: 302, 5.0: 269, 3.0: 84, 9.0: 79, 6.0: 67, 12.0: 64, 8.0: 25, 7.0: 24, 14.0: 15, 1.0: 13, 4.0: 12, 15.0: 12, 0.0: 12, 11.0: 11, 13.0: 8, 2.0: 3})\n",
      "Results in 125 step: Counter({10.0: 267, 5.0: 262, 6.0: 88, 9.0: 79, 12.0: 77, 3.0: 69, 8.0: 39, 15.0: 31, 7.0: 31, 0.0: 18, 4.0: 15, 1.0: 9, 14.0: 7, 11.0: 6, 2.0: 2})\n",
      "Results in 126 step: Counter({10.0: 281, 5.0: 245, 9.0: 94, 6.0: 88, 12.0: 87, 3.0: 78, 7.0: 26, 8.0: 25, 0.0: 21, 15.0: 17, 11.0: 13, 1.0: 10, 14.0: 9, 4.0: 5, 2.0: 1})\n",
      "Results in 127 step: Counter({5.0: 270, 10.0: 263, 9.0: 88, 6.0: 86, 3.0: 78, 12.0: 77, 7.0: 33, 8.0: 26, 0.0: 24, 11.0: 13, 4.0: 11, 14.0: 9, 1.0: 9, 15.0: 6, 2.0: 4, 13.0: 3})\n",
      "Results in 128 step: Counter({10.0: 267, 5.0: 256, 9.0: 82, 12.0: 81, 3.0: 75, 6.0: 72, 7.0: 27, 14.0: 22, 4.0: 21, 11.0: 20, 8.0: 16, 1.0: 15, 15.0: 14, 13.0: 13, 0.0: 11, 2.0: 8})\n",
      "Results in 129 step: Counter({10.0: 284, 5.0: 263, 6.0: 86, 3.0: 77, 12.0: 76, 9.0: 66, 8.0: 36, 7.0: 32, 15.0: 20, 1.0: 14, 11.0: 13, 0.0: 12, 4.0: 10, 14.0: 10, 13.0: 1})\n",
      "Results in 130 step: Counter({5.0: 269, 10.0: 243, 9.0: 102, 12.0: 86, 6.0: 84, 3.0: 67, 15.0: 30, 8.0: 29, 7.0: 25, 0.0: 24, 1.0: 11, 4.0: 11, 11.0: 9, 14.0: 9, 2.0: 1})\n",
      "Results in 131 step: Counter({10.0: 264, 5.0: 259, 3.0: 85, 9.0: 78, 12.0: 73, 6.0: 66, 8.0: 32, 7.0: 25, 11.0: 24, 0.0: 20, 15.0: 19, 14.0: 15, 4.0: 12, 2.0: 12, 1.0: 12, 13.0: 4})\n",
      "Results in 132 step: Counter({5.0: 265, 10.0: 258, 6.0: 90, 3.0: 86, 12.0: 80, 9.0: 74, 7.0: 32, 8.0: 30, 0.0: 24, 15.0: 16, 14.0: 14, 4.0: 11, 11.0: 8, 1.0: 7, 13.0: 3, 2.0: 2})\n",
      "Results in 133 step: Counter({5.0: 270, 10.0: 248, 9.0: 91, 3.0: 87, 12.0: 84, 6.0: 82, 8.0: 31, 7.0: 24, 0.0: 17, 15.0: 15, 11.0: 15, 1.0: 14, 14.0: 14, 4.0: 8})\n",
      "Results in 134 step: Counter({10.0: 287, 5.0: 234, 3.0: 86, 12.0: 77, 6.0: 72, 9.0: 67, 8.0: 30, 7.0: 27, 14.0: 23, 11.0: 22, 4.0: 19, 15.0: 17, 0.0: 12, 1.0: 11, 13.0: 8, 2.0: 8})\n",
      "Results in 135 step: Counter({10.0: 272, 5.0: 252, 6.0: 92, 12.0: 82, 9.0: 74, 3.0: 73, 8.0: 29, 7.0: 28, 1.0: 17, 15.0: 15, 0.0: 13, 2.0: 12, 14.0: 11, 11.0: 11, 4.0: 10, 13.0: 9})\n",
      "Results in 136 step: Counter({5.0: 264, 10.0: 254, 3.0: 99, 6.0: 78, 9.0: 71, 12.0: 71, 7.0: 32, 8.0: 31, 0.0: 30, 15.0: 25, 14.0: 13, 11.0: 11, 4.0: 11, 1.0: 7, 13.0: 2, 2.0: 1})\n",
      "Results in 137 step: Counter({10.0: 288, 5.0: 280, 3.0: 93, 12.0: 63, 9.0: 61, 6.0: 57, 7.0: 37, 8.0: 29, 0.0: 24, 15.0: 17, 1.0: 15, 11.0: 13, 14.0: 9, 4.0: 7, 2.0: 5, 13.0: 2})\n",
      "Results in 138 step: Counter({5.0: 265, 10.0: 264, 3.0: 83, 6.0: 80, 12.0: 77, 9.0: 71, 8.0: 30, 0.0: 26, 7.0: 25, 15.0: 19, 4.0: 19, 1.0: 18, 11.0: 12, 13.0: 5, 14.0: 5, 2.0: 1})\n",
      "Results in 139 step: Counter({10.0: 272, 5.0: 266, 3.0: 82, 6.0: 78, 12.0: 77, 9.0: 67, 8.0: 36, 0.0: 24, 7.0: 23, 15.0: 21, 1.0: 15, 4.0: 11, 11.0: 9, 2.0: 8, 14.0: 8, 13.0: 3})\n",
      "Results in 140 step: Counter({10.0: 276, 5.0: 263, 3.0: 84, 6.0: 84, 9.0: 83, 12.0: 81, 8.0: 24, 7.0: 21, 0.0: 18, 4.0: 14, 11.0: 14, 1.0: 14, 15.0: 10, 14.0: 8, 13.0: 5, 2.0: 1})\n",
      "Results in 141 step: Counter({10.0: 278, 5.0: 240, 6.0: 88, 12.0: 83, 3.0: 80, 9.0: 64, 8.0: 31, 7.0: 30, 4.0: 18, 1.0: 17, 14.0: 17, 15.0: 17, 11.0: 15, 0.0: 9, 2.0: 7, 13.0: 6})\n",
      "Results in 142 step: Counter({10.0: 268, 5.0: 241, 9.0: 86, 12.0: 85, 3.0: 84, 6.0: 80, 8.0: 33, 7.0: 25, 14.0: 23, 15.0: 22, 0.0: 16, 11.0: 12, 4.0: 11, 1.0: 10, 2.0: 4})\n",
      "Results in 143 step: Counter({10.0: 267, 5.0: 237, 3.0: 92, 6.0: 85, 9.0: 80, 12.0: 71, 8.0: 40, 7.0: 38, 15.0: 24, 0.0: 21, 4.0: 14, 1.0: 12, 14.0: 9, 11.0: 6, 13.0: 3, 2.0: 1})\n",
      "Results in 144 step: Counter({10.0: 266, 5.0: 266, 6.0: 92, 3.0: 81, 12.0: 79, 9.0: 69, 8.0: 30, 0.0: 28, 7.0: 19, 15.0: 17, 4.0: 15, 14.0: 12, 11.0: 10, 1.0: 10, 13.0: 3, 2.0: 3})\n",
      "Results in 145 step: Counter({5.0: 283, 10.0: 249, 6.0: 90, 9.0: 75, 3.0: 74, 12.0: 67, 8.0: 28, 1.0: 23, 7.0: 17, 4.0: 16, 0.0: 16, 15.0: 14, 11.0: 13, 13.0: 12, 14.0: 12, 2.0: 11})\n",
      "Results in 146 step: Counter({10.0: 249, 5.0: 243, 3.0: 97, 12.0: 87, 9.0: 77, 6.0: 74, 7.0: 34, 8.0: 32, 0.0: 25, 15.0: 23, 14.0: 17, 4.0: 16, 1.0: 13, 11.0: 11, 2.0: 1, 13.0: 1})\n",
      "Results in 147 step: Counter({10.0: 282, 5.0: 253, 3.0: 93, 6.0: 80, 9.0: 78, 12.0: 72, 8.0: 35, 7.0: 29, 15.0: 17, 0.0: 17, 4.0: 14, 1.0: 13, 11.0: 10, 14.0: 5, 13.0: 2})\n",
      "Results in 148 step: Counter({10.0: 253, 5.0: 245, 12.0: 102, 3.0: 93, 9.0: 76, 6.0: 76, 8.0: 29, 7.0: 28, 15.0: 27, 0.0: 18, 14.0: 17, 4.0: 13, 1.0: 12, 11.0: 10, 2.0: 1})\n",
      "Results in 149 step: Counter({5.0: 279, 10.0: 245, 12.0: 87, 9.0: 87, 6.0: 83, 3.0: 79, 7.0: 27, 8.0: 25, 0.0: 24, 15.0: 17, 4.0: 14, 1.0: 12, 11.0: 12, 14.0: 5, 13.0: 2, 2.0: 2})\n",
      "Results in 150 step: Counter({5.0: 269, 10.0: 268, 6.0: 92, 12.0: 85, 9.0: 74, 3.0: 57, 8.0: 34, 0.0: 29, 7.0: 24, 15.0: 17, 1.0: 13, 4.0: 11, 11.0: 9, 14.0: 9, 13.0: 5, 2.0: 4})\n",
      "Results in 151 step: Counter({5.0: 275, 10.0: 251, 6.0: 81, 9.0: 80, 12.0: 79, 3.0: 72, 8.0: 28, 7.0: 25, 0.0: 23, 14.0: 23, 15.0: 21, 4.0: 14, 11.0: 13, 1.0: 13, 13.0: 1, 2.0: 1})\n",
      "Results in 152 step: Counter({10.0: 269, 5.0: 256, 6.0: 83, 12.0: 82, 3.0: 77, 9.0: 76, 8.0: 30, 7.0: 28, 14.0: 19, 11.0: 17, 0.0: 17, 1.0: 12, 15.0: 11, 4.0: 10, 2.0: 7, 13.0: 6})\n",
      "Results in 153 step: Counter({10.0: 280, 5.0: 234, 6.0: 91, 12.0: 84, 9.0: 84, 3.0: 84, 7.0: 32, 8.0: 27, 0.0: 20, 15.0: 13, 14.0: 13, 11.0: 12, 1.0: 11, 4.0: 9, 13.0: 5, 2.0: 1})\n",
      "Results in 154 step: Counter({5.0: 281, 10.0: 249, 9.0: 86, 12.0: 85, 6.0: 80, 3.0: 79, 8.0: 35, 15.0: 28, 7.0: 22, 4.0: 14, 0.0: 14, 1.0: 13, 14.0: 9, 11.0: 5})\n",
      "Results in 155 step: Counter({10.0: 265, 5.0: 260, 3.0: 89, 6.0: 84, 12.0: 79, 9.0: 64, 8.0: 29, 7.0: 28, 0.0: 23, 15.0: 19, 14.0: 16, 1.0: 15, 4.0: 13, 11.0: 11, 13.0: 4, 2.0: 1})\n",
      "Results in 156 step: Counter({10.0: 260, 5.0: 252, 12.0: 93, 6.0: 84, 9.0: 77, 3.0: 67, 0.0: 25, 4.0: 21, 8.0: 19, 7.0: 17, 11.0: 17, 1.0: 16, 14.0: 15, 15.0: 14, 13.0: 12, 2.0: 11})\n",
      "Results in 157 step: Counter({5.0: 277, 10.0: 241, 9.0: 82, 12.0: 82, 6.0: 79, 3.0: 65, 7.0: 40, 8.0: 31, 0.0: 24, 15.0: 21, 4.0: 18, 14.0: 14, 1.0: 10, 11.0: 7, 13.0: 5, 2.0: 4})\n",
      "Results in 158 step: Counter({5.0: 260, 10.0: 254, 6.0: 93, 3.0: 87, 9.0: 80, 12.0: 75, 8.0: 38, 7.0: 33, 15.0: 25, 0.0: 16, 14.0: 13, 11.0: 10, 4.0: 10, 1.0: 6})\n",
      "Results in 159 step: Counter({5.0: 259, 10.0: 256, 12.0: 82, 6.0: 82, 9.0: 80, 3.0: 79, 8.0: 32, 7.0: 27, 14.0: 20, 15.0: 17, 11.0: 16, 4.0: 16, 0.0: 14, 1.0: 10, 2.0: 7, 13.0: 3})\n",
      "Results in 160 step: Counter({5.0: 272, 10.0: 244, 9.0: 95, 12.0: 78, 3.0: 73, 6.0: 67, 7.0: 34, 8.0: 28, 4.0: 27, 11.0: 20, 14.0: 14, 15.0: 12, 0.0: 11, 13.0: 10, 2.0: 9, 1.0: 6})\n",
      "Results in 161 step: Counter({10.0: 263, 5.0: 262, 3.0: 94, 9.0: 88, 12.0: 85, 6.0: 84, 0.0: 33, 8.0: 29, 7.0: 22, 15.0: 9, 1.0: 8, 4.0: 8, 14.0: 8, 11.0: 7})\n",
      "Results in 162 step: Counter({5.0: 301, 10.0: 240, 9.0: 90, 3.0: 78, 6.0: 76, 12.0: 70, 7.0: 34, 8.0: 29, 15.0: 18, 0.0: 18, 11.0: 14, 14.0: 11, 4.0: 10, 1.0: 6, 2.0: 4, 13.0: 1})\n",
      "Results in 163 step: Counter({10.0: 281, 5.0: 273, 9.0: 76, 6.0: 71, 3.0: 69, 12.0: 63, 4.0: 27, 7.0: 24, 8.0: 21, 0.0: 17, 14.0: 16, 11.0: 15, 1.0: 14, 13.0: 13, 15.0: 12, 2.0: 8})\n",
      "Results in 164 step: Counter({5.0: 268, 10.0: 253, 3.0: 93, 6.0: 88, 12.0: 80, 9.0: 80, 7.0: 32, 0.0: 23, 15.0: 18, 8.0: 14, 11.0: 14, 4.0: 13, 14.0: 13, 1.0: 10, 13.0: 1})\n",
      "Results in 165 step: Counter({5.0: 259, 10.0: 254, 6.0: 98, 3.0: 94, 9.0: 85, 12.0: 66, 8.0: 35, 0.0: 23, 7.0: 20, 11.0: 19, 15.0: 15, 1.0: 12, 14.0: 12, 4.0: 6, 2.0: 1, 13.0: 1})\n",
      "Results in 166 step: Counter({5.0: 284, 10.0: 245, 6.0: 87, 3.0: 86, 12.0: 79, 9.0: 73, 8.0: 26, 7.0: 20, 14.0: 19, 11.0: 18, 0.0: 17, 1.0: 15, 4.0: 11, 15.0: 11, 13.0: 5, 2.0: 4})\n",
      "Results in 167 step: Counter({10.0: 271, 5.0: 242, 6.0: 89, 12.0: 85, 3.0: 78, 9.0: 70, 15.0: 31, 0.0: 24, 7.0: 21, 1.0: 19, 14.0: 17, 8.0: 17, 4.0: 11, 11.0: 11, 13.0: 10, 2.0: 4})\n",
      "Results in 168 step: Counter({5.0: 265, 10.0: 247, 3.0: 104, 9.0: 79, 6.0: 78, 12.0: 76, 7.0: 31, 15.0: 29, 0.0: 27, 8.0: 26, 1.0: 11, 14.0: 10, 4.0: 10, 11.0: 6, 13.0: 1})\n",
      "Results in 169 step: Counter({5.0: 269, 10.0: 265, 6.0: 92, 9.0: 84, 3.0: 81, 12.0: 64, 7.0: 38, 8.0: 24, 0.0: 22, 15.0: 20, 1.0: 12, 14.0: 11, 4.0: 7, 11.0: 5, 13.0: 4, 2.0: 2})\n",
      "Results in 170 step: Counter({10.0: 278, 5.0: 261, 9.0: 90, 12.0: 79, 3.0: 75, 6.0: 72, 8.0: 24, 11.0: 21, 7.0: 17, 0.0: 17, 14.0: 17, 15.0: 15, 1.0: 13, 4.0: 12, 13.0: 5, 2.0: 4})\n",
      "Results in 171 step: Counter({10.0: 289, 5.0: 252, 6.0: 78, 12.0: 77, 9.0: 68, 3.0: 68, 8.0: 44, 7.0: 32, 0.0: 19, 15.0: 17, 4.0: 14, 14.0: 13, 1.0: 12, 11.0: 11, 13.0: 5, 2.0: 1})\n",
      "Results in 172 step: Counter({10.0: 271, 5.0: 251, 9.0: 95, 3.0: 90, 6.0: 82, 12.0: 77, 8.0: 28, 7.0: 25, 15.0: 17, 11.0: 15, 14.0: 13, 1.0: 13, 0.0: 10, 4.0: 8, 13.0: 3, 2.0: 2})\n",
      "Results in 173 step: Counter({5.0: 281, 10.0: 261, 12.0: 88, 9.0: 86, 3.0: 72, 6.0: 62, 8.0: 25, 7.0: 24, 0.0: 19, 14.0: 17, 15.0: 17, 1.0: 14, 11.0: 13, 4.0: 12, 13.0: 5, 2.0: 4})\n",
      "Results in 174 step: Counter({5.0: 292, 10.0: 246, 9.0: 83, 6.0: 73, 12.0: 71, 3.0: 67, 7.0: 31, 0.0: 24, 15.0: 21, 8.0: 21, 14.0: 19, 11.0: 17, 1.0: 14, 4.0: 9, 13.0: 7, 2.0: 5})\n",
      "Results in 175 step: Counter({10.0: 284, 5.0: 269, 9.0: 78, 3.0: 76, 12.0: 74, 6.0: 65, 7.0: 33, 0.0: 31, 8.0: 21, 15.0: 20, 11.0: 13, 14.0: 12, 1.0: 11, 4.0: 9, 13.0: 2, 2.0: 2})\n",
      "Results in 176 step: Counter({10.0: 272, 5.0: 245, 3.0: 97, 6.0: 87, 9.0: 87, 12.0: 68, 7.0: 25, 8.0: 22, 15.0: 21, 0.0: 19, 4.0: 16, 14.0: 14, 1.0: 11, 11.0: 9, 2.0: 4, 13.0: 3})\n",
      "Results in 177 step: Counter({10.0: 272, 5.0: 269, 12.0: 98, 9.0: 89, 6.0: 69, 3.0: 60, 7.0: 36, 8.0: 27, 0.0: 18, 15.0: 15, 4.0: 14, 11.0: 13, 1.0: 10, 14.0: 7, 13.0: 2, 2.0: 1})\n",
      "Results in 178 step: Counter({10.0: 265, 5.0: 257, 9.0: 95, 3.0: 88, 6.0: 80, 12.0: 72, 7.0: 33, 8.0: 30, 15.0: 16, 0.0: 15, 4.0: 14, 14.0: 13, 11.0: 9, 1.0: 8, 2.0: 3, 13.0: 2})\n",
      "Results in 179 step: Counter({10.0: 288, 5.0: 244, 12.0: 95, 6.0: 84, 3.0: 71, 9.0: 66, 0.0: 26, 8.0: 26, 7.0: 25, 15.0: 19, 1.0: 17, 14.0: 15, 4.0: 9, 11.0: 9, 13.0: 4, 2.0: 2})\n",
      "Results in 180 step: Counter({10.0: 286, 5.0: 257, 12.0: 80, 3.0: 79, 9.0: 77, 6.0: 76, 15.0: 29, 7.0: 29, 8.0: 29, 0.0: 19, 1.0: 11, 14.0: 9, 11.0: 9, 4.0: 8, 2.0: 2})\n",
      "Results in 181 step: Counter({5.0: 284, 10.0: 248, 6.0: 89, 3.0: 82, 9.0: 75, 12.0: 75, 8.0: 27, 4.0: 19, 0.0: 18, 7.0: 15, 15.0: 15, 11.0: 13, 14.0: 12, 2.0: 10, 1.0: 9, 13.0: 9})\n",
      "Results in 182 step: Counter({10.0: 280, 5.0: 263, 9.0: 88, 3.0: 83, 12.0: 77, 6.0: 75, 8.0: 25, 7.0: 24, 15.0: 17, 14.0: 15, 0.0: 15, 4.0: 11, 1.0: 9, 11.0: 9, 13.0: 6, 2.0: 3})\n",
      "Results in 183 step: Counter({10.0: 279, 5.0: 239, 12.0: 96, 9.0: 83, 6.0: 80, 3.0: 76, 8.0: 31, 7.0: 30, 15.0: 20, 4.0: 17, 0.0: 14, 1.0: 12, 11.0: 12, 13.0: 5, 14.0: 5, 2.0: 1})\n",
      "Results in 184 step: Counter({10.0: 289, 5.0: 258, 12.0: 86, 6.0: 84, 3.0: 75, 9.0: 65, 7.0: 28, 8.0: 22, 15.0: 20, 0.0: 20, 11.0: 13, 4.0: 13, 14.0: 13, 1.0: 9, 13.0: 4, 2.0: 1})\n",
      "Results in 185 step: Counter({5.0: 287, 10.0: 263, 6.0: 90, 9.0: 80, 12.0: 67, 3.0: 64, 7.0: 27, 11.0: 19, 15.0: 18, 8.0: 18, 4.0: 15, 1.0: 14, 14.0: 14, 0.0: 13, 13.0: 7, 2.0: 4})\n",
      "Results in 186 step: Counter({5.0: 275, 10.0: 264, 9.0: 85, 3.0: 77, 12.0: 72, 6.0: 70, 7.0: 32, 8.0: 25, 0.0: 18, 15.0: 17, 4.0: 16, 11.0: 15, 14.0: 13, 1.0: 11, 13.0: 5, 2.0: 5})\n",
      "Results in 187 step: Counter({10.0: 264, 5.0: 240, 12.0: 91, 6.0: 88, 3.0: 80, 9.0: 76, 7.0: 45, 8.0: 29, 0.0: 24, 15.0: 24, 4.0: 12, 1.0: 12, 14.0: 10, 11.0: 4, 13.0: 1})\n",
      "Results in 188 step: Counter({10.0: 285, 5.0: 257, 6.0: 86, 12.0: 78, 3.0: 72, 9.0: 66, 8.0: 28, 7.0: 24, 4.0: 19, 1.0: 18, 14.0: 17, 0.0: 13, 11.0: 12, 13.0: 11, 2.0: 8, 15.0: 6})\n",
      "Results in 189 step: Counter({5.0: 279, 10.0: 263, 3.0: 81, 9.0: 79, 6.0: 69, 12.0: 66, 8.0: 33, 7.0: 30, 0.0: 18, 14.0: 16, 1.0: 15, 15.0: 14, 4.0: 14, 11.0: 12, 2.0: 6, 13.0: 5})\n",
      "Results in 190 step: Counter({10.0: 274, 5.0: 263, 12.0: 88, 6.0: 85, 3.0: 75, 9.0: 73, 7.0: 32, 15.0: 25, 0.0: 21, 8.0: 16, 4.0: 14, 1.0: 12, 11.0: 11, 14.0: 11})\n",
      "Results in 191 step: Counter({10.0: 270, 5.0: 265, 9.0: 80, 6.0: 75, 12.0: 74, 3.0: 63, 11.0: 25, 14.0: 25, 15.0: 20, 8.0: 20, 7.0: 20, 0.0: 20, 4.0: 13, 1.0: 11, 13.0: 10, 2.0: 9})\n",
      "Results in 192 step: Counter({10.0: 286, 5.0: 263, 12.0: 80, 9.0: 75, 6.0: 72, 3.0: 66, 8.0: 37, 0.0: 23, 15.0: 22, 7.0: 21, 1.0: 15, 11.0: 14, 14.0: 11, 4.0: 8, 2.0: 4, 13.0: 3})\n",
      "Results in 193 step: Counter({5.0: 262, 10.0: 254, 3.0: 92, 6.0: 89, 9.0: 83, 12.0: 71, 7.0: 40, 15.0: 25, 0.0: 24, 8.0: 19, 4.0: 17, 14.0: 8, 1.0: 7, 11.0: 6, 13.0: 2, 2.0: 1})\n",
      "Results in 194 step: Counter({5.0: 269, 10.0: 237, 3.0: 104, 6.0: 99, 9.0: 80, 12.0: 75, 11.0: 22, 8.0: 19, 7.0: 16, 4.0: 15, 1.0: 14, 0.0: 11, 15.0: 11, 13.0: 11, 14.0: 10, 2.0: 7})\n",
      "Results in 195 step: Counter({10.0: 275, 5.0: 252, 12.0: 84, 3.0: 77, 9.0: 77, 6.0: 72, 7.0: 31, 8.0: 31, 0.0: 23, 15.0: 18, 1.0: 18, 11.0: 17, 14.0: 11, 4.0: 10, 13.0: 2, 2.0: 2})\n",
      "Results in 196 step: Counter({10.0: 268, 5.0: 244, 9.0: 85, 3.0: 84, 6.0: 77, 12.0: 77, 8.0: 33, 7.0: 30, 15.0: 29, 0.0: 26, 14.0: 18, 1.0: 9, 11.0: 9, 4.0: 9, 2.0: 1, 13.0: 1})\n",
      "Results in 197 step: Counter({5.0: 275, 10.0: 251, 6.0: 89, 9.0: 73, 12.0: 68, 3.0: 65, 8.0: 33, 7.0: 31, 0.0: 28, 15.0: 22, 1.0: 19, 4.0: 18, 11.0: 12, 14.0: 10, 13.0: 3, 2.0: 3})\n",
      "Results in 198 step: Counter({5.0: 281, 10.0: 242, 12.0: 84, 3.0: 82, 9.0: 82, 6.0: 78, 7.0: 39, 8.0: 29, 0.0: 24, 15.0: 21, 1.0: 13, 11.0: 10, 4.0: 7, 14.0: 7, 2.0: 1})\n",
      "Results in 199 step: Counter({10.0: 266, 5.0: 244, 9.0: 108, 6.0: 78, 12.0: 76, 3.0: 74, 8.0: 39, 7.0: 27, 15.0: 21, 0.0: 21, 4.0: 15, 11.0: 12, 14.0: 9, 1.0: 8, 2.0: 2})\n",
      "Final results: Counter({10.0: 286, 5.0: 223, 3.0: 96, 6.0: 89, 9.0: 81, 12.0: 77, 0.0: 31, 8.0: 27, 15.0: 21, 7.0: 20, 4.0: 14, 1.0: 13, 14.0: 11, 11.0: 10, 13.0: 1})\n"
     ]
    }
   ],
   "source": [
    "if __name__ == '__main__':\n",
    "    params = 0.01*np.random.rand(2, layerNumber)\n",
    "    optimizer = getOptimizer(optimizerName=\"Adam\", stepSize=0.3)\n",
    "    stepNumber = 200\n",
    "    for i in range(stepNumber):\n",
    "        params = optimizer.step(costFunction, params)\n",
    "        print(\"Results in \" + str(i) + \" step: \" + str(getMaxCutSolution(params)))\n",
    "    print(\"Final results: \" + str(getMaxCutSolution(params)))"
   ]
  }
 ]
}