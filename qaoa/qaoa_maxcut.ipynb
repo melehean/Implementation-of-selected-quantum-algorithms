{
 "metadata": {
  "language_info": {
   "codemirror_mode": {
    "name": "ipython",
    "version": 3
   },
   "file_extension": ".py",
   "mimetype": "text/x-python",
   "name": "python",
   "nbconvert_exporter": "python",
   "pygments_lexer": "ipython3",
   "version": "3.8.5"
  },
  "orig_nbformat": 4,
  "kernelspec": {
   "name": "python3",
   "display_name": "Python 3.8.5 64-bit ('pennylane-qiskit-env': venv)"
  },
  "interpreter": {
   "hash": "4c8470158236c478be0ed2c28ab96d78cff446d063c81a6a4a65ad12c789b187"
  }
 },
 "nbformat": 4,
 "nbformat_minor": 2,
 "cells": [
  {
   "cell_type": "code",
   "execution_count": 351,
   "metadata": {},
   "outputs": [],
   "source": [
    "import networkx as nx\n",
    "import pennylane as qml\n",
    "from pennylane import numpy as np\n",
    "import collections\n"
   ]
  },
  {
   "cell_type": "code",
   "execution_count": 352,
   "metadata": {},
   "outputs": [],
   "source": [
    "def getGraphFromFile():\n",
    "    graph = nx.read_edgelist('graph.txt', nodetype=int,\n",
    "    data=(('weight',int),), create_using=nx.Graph())\n",
    "    return graph"
   ]
  },
  {
   "cell_type": "code",
   "execution_count": 353,
   "metadata": {},
   "outputs": [
    {
     "output_type": "execute_result",
     "data": {
      "text/plain": [
       "{(0, 1): Text(-0.557877917734078, 0.04565012662699787, '5'),\n",
       " (0, 2): Text(-0.519222775967154, -0.14279952432829568, '1'),\n",
       " (1, 2): Text(-0.25639254537984973, -0.14924931612472256, '7'),\n",
       " (1, 3): Text(0.019222775967153966, 0.0437441076558503, '4'),\n",
       " (2, 3): Text(0.05787791773407795, -0.14470554329944327, '2'),\n",
       " (3, 4): Text(0.6667466195405408, 0.12319935691301012, '3')}"
      ]
     },
     "metadata": {},
     "execution_count": 353
    },
    {
     "output_type": "display_data",
     "data": {
      "text/plain": "<Figure size 432x288 with 1 Axes>",
      "image/svg+xml": "<?xml version=\"1.0\" encoding=\"utf-8\" standalone=\"no\"?>\n<!DOCTYPE svg PUBLIC \"-//W3C//DTD SVG 1.1//EN\"\n  \"http://www.w3.org/Graphics/SVG/1.1/DTD/svg11.dtd\">\n<svg height=\"302.4pt\" version=\"1.1\" viewBox=\"0 0 446.4 302.4\" width=\"446.4pt\" xmlns=\"http://www.w3.org/2000/svg\" xmlns:xlink=\"http://www.w3.org/1999/xlink\">\n <metadata>\n  <rdf:RDF xmlns:cc=\"http://creativecommons.org/ns#\" xmlns:dc=\"http://purl.org/dc/elements/1.1/\" xmlns:rdf=\"http://www.w3.org/1999/02/22-rdf-syntax-ns#\">\n   <cc:Work>\n    <dc:type rdf:resource=\"http://purl.org/dc/dcmitype/StillImage\"/>\n    <dc:date>1970-01-01T02:32:38.598791</dc:date>\n    <dc:format>image/svg+xml</dc:format>\n    <dc:creator>\n     <cc:Agent>\n      <dc:title>Matplotlib v3.4.2, https://matplotlib.org/</dc:title>\n     </cc:Agent>\n    </dc:creator>\n   </cc:Work>\n  </rdf:RDF>\n </metadata>\n <defs>\n  <style type=\"text/css\">*{stroke-linecap:butt;stroke-linejoin:round;}</style>\n </defs>\n <g id=\"figure_1\">\n  <g id=\"patch_1\">\n   <path d=\"M 0 302.4 \nL 446.4 302.4 \nL 446.4 0 \nL 0 0 \nz\n\" style=\"fill:#ffffff;\"/>\n  </g>\n  <g id=\"axes_1\">\n   <g id=\"LineCollection_1\">\n    <path clip-path=\"url(#p0b02fd211e)\" d=\"M 26.836364 91.637705 \nL 140.221477 97.940959 \n\" style=\"fill:none;stroke:#000000;\"/>\n    <path clip-path=\"url(#p0b02fd211e)\" d=\"M 26.836364 91.637705 \nL 156.897327 282.109091 \n\" style=\"fill:none;stroke:#000000;\"/>\n    <path clip-path=\"url(#p0b02fd211e)\" d=\"M 140.221477 97.940959 \nL 156.897327 282.109091 \n\" style=\"fill:none;stroke:#000000;\"/>\n    <path clip-path=\"url(#p0b02fd211e)\" d=\"M 140.221477 97.940959 \nL 275.797936 93.500419 \n\" style=\"fill:none;stroke:#000000;\"/>\n    <path clip-path=\"url(#p0b02fd211e)\" d=\"M 156.897327 282.109091 \nL 275.797936 93.500419 \n\" style=\"fill:none;stroke:#000000;\"/>\n    <path clip-path=\"url(#p0b02fd211e)\" d=\"M 275.797936 93.500419 \nL 419.563636 20.290909 \n\" style=\"fill:none;stroke:#000000;\"/>\n   </g>\n   <g id=\"text_1\">\n    <g id=\"patch_2\">\n     <path clip-path=\"url(#p0b02fd211e)\" d=\"M 79.917461 102.439731 \nL 86.270152 102.792887 \nQ 89.265527 102.959405 89.432045 99.96403 \nL 89.969237 90.300825 \nQ 90.135755 87.30545 87.14038 87.138932 \nL 80.787688 86.785776 \nQ 77.792313 86.619259 77.625796 89.614634 \nL 77.088603 99.277839 \nQ 76.922086 102.273214 79.917461 102.439731 \nz\n\" style=\"fill:#ffffff;stroke:#ffffff;stroke-linejoin:miter;\"/>\n    </g>\n    <g clip-path=\"url(#p0b02fd211e)\">\n     <!-- 5 -->\n     <g transform=\"translate(80.199413 97.367875)rotate(-356.818114)scale(0.1 -0.1)\">\n      <defs>\n       <path d=\"M 691 4666 \nL 3169 4666 \nL 3169 4134 \nL 1269 4134 \nL 1269 2991 \nQ 1406 3038 1543 3061 \nQ 1681 3084 1819 3084 \nQ 2600 3084 3056 2656 \nQ 3513 2228 3513 1497 \nQ 3513 744 3044 326 \nQ 2575 -91 1722 -91 \nQ 1428 -91 1123 -41 \nQ 819 9 494 109 \nL 494 744 \nQ 775 591 1075 516 \nQ 1375 441 1709 441 \nQ 2250 441 2565 725 \nQ 2881 1009 2881 1497 \nQ 2881 1984 2565 2268 \nQ 2250 2553 1709 2553 \nQ 1456 2553 1204 2497 \nQ 953 2441 691 2322 \nL 691 4666 \nz\n\" id=\"DejaVuSans-35\" transform=\"scale(0.015625)\"/>\n      </defs>\n      <use xlink:href=\"#DejaVuSans-35\"/>\n     </g>\n    </g>\n   </g>\n   <g id=\"text_2\">\n    <g id=\"patch_3\">\n     <path clip-path=\"url(#p0b02fd211e)\" d=\"M 83.599127 188.666744 \nL 87.187012 193.921122 \nQ 88.878746 196.398628 91.356252 194.706895 \nL 99.348791 189.249291 \nQ 101.826297 187.557558 100.134563 185.080051 \nL 96.546678 179.825674 \nQ 94.854945 177.348167 92.377438 179.039901 \nL 84.3849 184.497504 \nQ 81.907394 186.189238 83.599127 188.666744 \nz\n\" style=\"fill:#ffffff;stroke:#ffffff;stroke-linejoin:miter;\"/>\n    </g>\n    <g clip-path=\"url(#p0b02fd211e)\">\n     <!-- 1 -->\n     <g transform=\"translate(87.794113 185.802251)rotate(-304.326718)scale(0.1 -0.1)\">\n      <defs>\n       <path d=\"M 794 531 \nL 1825 531 \nL 1825 4091 \nL 703 3866 \nL 703 4441 \nL 1819 4666 \nL 2450 4666 \nL 2450 531 \nL 3481 531 \nL 3481 0 \nL 794 0 \nL 794 531 \nz\n\" id=\"DejaVuSans-31\" transform=\"scale(0.015625)\"/>\n      </defs>\n      <use xlink:href=\"#DejaVuSans-31\"/>\n     </g>\n    </g>\n   </g>\n   <g id=\"text_3\">\n    <g id=\"patch_4\">\n     <path clip-path=\"url(#p0b02fd211e)\" d=\"M 140.4654 187.563647 \nL 141.039157 193.900224 \nQ 141.309691 196.888001 144.297468 196.617467 \nL 153.936161 195.744714 \nQ 156.923938 195.47418 156.653404 192.486403 \nL 156.079647 186.149826 \nQ 155.809113 183.162049 152.821336 183.432583 \nL 143.182643 184.305336 \nQ 140.194866 184.57587 140.4654 187.563647 \nz\n\" style=\"fill:#ffffff;stroke:#ffffff;stroke-linejoin:miter;\"/>\n    </g>\n    <g clip-path=\"url(#p0b02fd211e)\">\n     <!-- 7 -->\n     <g transform=\"translate(145.524391 187.105571)rotate(-275.173845)scale(0.1 -0.1)\">\n      <defs>\n       <path d=\"M 525 4666 \nL 3525 4666 \nL 3525 4397 \nL 1831 0 \nL 1172 0 \nL 2766 4134 \nL 525 4134 \nL 525 4666 \nz\n\" id=\"DejaVuSans-37\" transform=\"scale(0.015625)\"/>\n      </defs>\n      <use xlink:href=\"#DejaVuSans-37\"/>\n     </g>\n    </g>\n   </g>\n   <g id=\"text_4\">\n    <g id=\"patch_5\">\n     <path clip-path=\"url(#p0b02fd211e)\" d=\"M 205.086777 103.65969 \nL 211.445867 103.451411 \nQ 214.444259 103.353204 214.346052 100.354812 \nL 214.029234 90.681874 \nQ 213.931028 87.683482 210.932636 87.781688 \nL 204.573546 87.989968 \nQ 201.575154 88.088174 201.67336 91.086566 \nL 201.990178 100.759504 \nQ 202.088385 103.757897 205.086777 103.65969 \nz\n\" style=\"fill:#ffffff;stroke:#ffffff;stroke-linejoin:miter;\"/>\n    </g>\n    <g clip-path=\"url(#p0b02fd211e)\">\n     <!-- 4 -->\n     <g transform=\"translate(204.920491 98.582725)rotate(-1.87594)scale(0.1 -0.1)\">\n      <defs>\n       <path d=\"M 2419 4116 \nL 825 1625 \nL 2419 1625 \nL 2419 4116 \nz\nM 2253 4666 \nL 3047 4666 \nL 3047 1625 \nL 3713 1625 \nL 3713 1100 \nL 3047 1100 \nL 3047 0 \nL 2419 0 \nL 2419 1100 \nL 313 1100 \nL 313 1709 \nL 2253 4666 \nz\n\" id=\"DejaVuSans-34\" transform=\"scale(0.015625)\"/>\n      </defs>\n      <use xlink:href=\"#DejaVuSans-34\"/>\n     </g>\n    </g>\n   </g>\n   <g id=\"text_5\">\n    <g id=\"patch_6\">\n     <path clip-path=\"url(#p0b02fd211e)\" d=\"M 221.282458 194.676344 \nL 224.675486 189.29408 \nQ 226.275342 186.756274 223.737536 185.156418 \nL 215.550467 179.995216 \nQ 213.012661 178.39536 211.412805 180.933166 \nL 208.019777 186.31543 \nQ 206.419921 188.853237 208.957727 190.453093 \nL 217.144796 195.614295 \nQ 219.682602 197.214151 221.282458 194.676344 \nz\n\" style=\"fill:#ffffff;stroke:#ffffff;stroke-linejoin:miter;\"/>\n    </g>\n    <g clip-path=\"url(#p0b02fd211e)\">\n     <!-- 2 -->\n     <g transform=\"translate(216.985371 191.967421)rotate(-57.772299)scale(0.1 -0.1)\">\n      <defs>\n       <path d=\"M 1228 531 \nL 3431 531 \nL 3431 0 \nL 469 0 \nL 469 531 \nQ 828 903 1448 1529 \nQ 2069 2156 2228 2338 \nQ 2531 2678 2651 2914 \nQ 2772 3150 2772 3378 \nQ 2772 3750 2511 3984 \nQ 2250 4219 1831 4219 \nQ 1534 4219 1204 4116 \nQ 875 4013 500 3803 \nL 500 4441 \nQ 881 4594 1212 4672 \nQ 1544 4750 1819 4750 \nQ 2544 4750 2975 4387 \nQ 3406 4025 3406 3419 \nQ 3406 3131 3298 2873 \nQ 3191 2616 2906 2266 \nQ 2828 2175 2409 1742 \nQ 1991 1309 1228 531 \nz\n\" id=\"DejaVuSans-32\" transform=\"scale(0.015625)\"/>\n      </defs>\n      <use xlink:href=\"#DejaVuSans-32\"/>\n     </g>\n    </g>\n   </g>\n   <g id=\"text_6\">\n    <g id=\"patch_7\">\n     <path clip-path=\"url(#p0b02fd211e)\" d=\"M 348.40314 65.324748 \nL 354.072852 62.437573 \nQ 356.746193 61.076233 355.384853 58.402892 \nL 350.993113 49.778581 \nQ 349.631773 47.10524 346.958432 48.46658 \nL 341.288721 51.353756 \nQ 338.615379 52.715096 339.976719 55.388437 \nL 344.368459 64.012747 \nQ 345.729799 66.686088 348.40314 65.324748 \nz\n\" style=\"fill:#ffffff;stroke:#ffffff;stroke-linejoin:miter;\"/>\n    </g>\n    <g clip-path=\"url(#p0b02fd211e)\">\n     <!-- 3 -->\n     <g transform=\"translate(346.09808 60.798169)rotate(-26.986465)scale(0.1 -0.1)\">\n      <defs>\n       <path d=\"M 2597 2516 \nQ 3050 2419 3304 2112 \nQ 3559 1806 3559 1356 \nQ 3559 666 3084 287 \nQ 2609 -91 1734 -91 \nQ 1441 -91 1130 -33 \nQ 819 25 488 141 \nL 488 750 \nQ 750 597 1062 519 \nQ 1375 441 1716 441 \nQ 2309 441 2620 675 \nQ 2931 909 2931 1356 \nQ 2931 1769 2642 2001 \nQ 2353 2234 1838 2234 \nL 1294 2234 \nL 1294 2753 \nL 1863 2753 \nQ 2328 2753 2575 2939 \nQ 2822 3125 2822 3475 \nQ 2822 3834 2567 4026 \nQ 2313 4219 1838 4219 \nQ 1578 4219 1281 4162 \nQ 984 4106 628 3988 \nL 628 4550 \nQ 988 4650 1302 4700 \nQ 1616 4750 1894 4750 \nQ 2613 4750 3031 4423 \nQ 3450 4097 3450 3541 \nQ 3450 3153 3228 2886 \nQ 3006 2619 2597 2516 \nz\n\" id=\"DejaVuSans-33\" transform=\"scale(0.015625)\"/>\n      </defs>\n      <use xlink:href=\"#DejaVuSans-33\"/>\n     </g>\n    </g>\n   </g>\n   <g id=\"PathCollection_1\">\n    <defs>\n     <path d=\"M 0 8.660254 \nC 2.296726 8.660254 4.499694 7.747755 6.123724 6.123724 \nC 7.747755 4.499694 8.660254 2.296726 8.660254 0 \nC 8.660254 -2.296726 7.747755 -4.499694 6.123724 -6.123724 \nC 4.499694 -7.747755 2.296726 -8.660254 0 -8.660254 \nC -2.296726 -8.660254 -4.499694 -7.747755 -6.123724 -6.123724 \nC -7.747755 -4.499694 -8.660254 -2.296726 -8.660254 0 \nC -8.660254 2.296726 -7.747755 4.499694 -6.123724 6.123724 \nC -4.499694 7.747755 -2.296726 8.660254 0 8.660254 \nz\n\" id=\"m7a258a73e4\" style=\"stroke:#1f78b4;\"/>\n    </defs>\n    <g clip-path=\"url(#p0b02fd211e)\">\n     <use style=\"fill:#1f78b4;stroke:#1f78b4;\" x=\"26.836364\" xlink:href=\"#m7a258a73e4\" y=\"91.637705\"/>\n     <use style=\"fill:#1f78b4;stroke:#1f78b4;\" x=\"140.221477\" xlink:href=\"#m7a258a73e4\" y=\"97.940959\"/>\n     <use style=\"fill:#1f78b4;stroke:#1f78b4;\" x=\"156.897327\" xlink:href=\"#m7a258a73e4\" y=\"282.109091\"/>\n     <use style=\"fill:#1f78b4;stroke:#1f78b4;\" x=\"275.797936\" xlink:href=\"#m7a258a73e4\" y=\"93.500419\"/>\n     <use style=\"fill:#1f78b4;stroke:#1f78b4;\" x=\"419.563636\" xlink:href=\"#m7a258a73e4\" y=\"20.290909\"/>\n    </g>\n   </g>\n   <g id=\"text_7\">\n    <g clip-path=\"url(#p0b02fd211e)\">\n     <!-- 0 -->\n     <g transform=\"translate(23.018864 94.948955)scale(0.12 -0.12)\">\n      <defs>\n       <path d=\"M 2034 4250 \nQ 1547 4250 1301 3770 \nQ 1056 3291 1056 2328 \nQ 1056 1369 1301 889 \nQ 1547 409 2034 409 \nQ 2525 409 2770 889 \nQ 3016 1369 3016 2328 \nQ 3016 3291 2770 3770 \nQ 2525 4250 2034 4250 \nz\nM 2034 4750 \nQ 2819 4750 3233 4129 \nQ 3647 3509 3647 2328 \nQ 3647 1150 3233 529 \nQ 2819 -91 2034 -91 \nQ 1250 -91 836 529 \nQ 422 1150 422 2328 \nQ 422 3509 836 4129 \nQ 1250 4750 2034 4750 \nz\n\" id=\"DejaVuSans-30\" transform=\"scale(0.015625)\"/>\n      </defs>\n      <use xlink:href=\"#DejaVuSans-30\"/>\n     </g>\n    </g>\n   </g>\n   <g id=\"text_8\">\n    <g clip-path=\"url(#p0b02fd211e)\">\n     <!-- 1 -->\n     <g transform=\"translate(136.403977 101.252209)scale(0.12 -0.12)\">\n      <use xlink:href=\"#DejaVuSans-31\"/>\n     </g>\n    </g>\n   </g>\n   <g id=\"text_9\">\n    <g clip-path=\"url(#p0b02fd211e)\">\n     <!-- 2 -->\n     <g transform=\"translate(153.079827 285.420341)scale(0.12 -0.12)\">\n      <use xlink:href=\"#DejaVuSans-32\"/>\n     </g>\n    </g>\n   </g>\n   <g id=\"text_10\">\n    <g clip-path=\"url(#p0b02fd211e)\">\n     <!-- 3 -->\n     <g transform=\"translate(271.980436 96.811669)scale(0.12 -0.12)\">\n      <use xlink:href=\"#DejaVuSans-33\"/>\n     </g>\n    </g>\n   </g>\n   <g id=\"text_11\">\n    <g clip-path=\"url(#p0b02fd211e)\">\n     <!-- 4 -->\n     <g transform=\"translate(415.746136 23.602159)scale(0.12 -0.12)\">\n      <use xlink:href=\"#DejaVuSans-34\"/>\n     </g>\n    </g>\n   </g>\n  </g>\n </g>\n <defs>\n  <clipPath id=\"p0b02fd211e\">\n   <rect height=\"288\" width=\"432\" x=\"7.2\" y=\"7.2\"/>\n  </clipPath>\n </defs>\n</svg>\n",
      "image/png": "[encoded data removed]"
     },
     "metadata": {}
    }
   ],
   "source": [
    "graph = getGraphFromFile()\n",
    "pos = nx.spring_layout(graph)\n",
    "nx.draw(graph,pos,with_labels=1)\n",
    "labels = nx.get_edge_attributes(graph,'weight')\n",
    "nx.draw_networkx_edge_labels(graph,pos,edge_labels=labels)"
   ]
  },
  {
   "cell_type": "code",
   "execution_count": 354,
   "metadata": {},
   "outputs": [],
   "source": [
    "qubitsNumber = graph.number_of_nodes()\n",
    "layersNumber = 1\n",
    "shotsNumber = 1000\n",
    "device = qml.device(\"default.qubit\", wires=qubitsNumber, shots=shotsNumber)"
   ]
  },
  {
   "cell_type": "code",
   "execution_count": 355,
   "metadata": {},
   "outputs": [],
   "source": [
    "def U_b(beta):\n",
    "    for qubit in range(qubitsNumber):\n",
    "        qml.RX(2*beta, wires=qubit)"
   ]
  },
  {
   "cell_type": "code",
   "execution_count": 356,
   "metadata": {},
   "outputs": [],
   "source": [
    "def U_c(gamma):\n",
    "    for i,j in graph.edges():\n",
    "        weight = graph.get_edge_data(i,j)['weight']\n",
    "        qml.CNOT(wires=[i,j])\n",
    "        qml.RZ(weight*gamma, wires = j)\n",
    "        qml.CNOT(wires=[i,j])"
   ]
  },
  {
   "cell_type": "code",
   "execution_count": 357,
   "metadata": {},
   "outputs": [],
   "source": [
    "def compBasisMeasurement(wires):\n",
    "    n_wires = len(wires)\n",
    "    return qml.Hermitian(np.diag(range(2 ** n_wires)), wires=wires)"
   ]
  },
  {
   "cell_type": "code",
   "execution_count": 358,
   "metadata": {},
   "outputs": [],
   "source": [
    "pauli_z = [[1, 0], [0, -1]]\n",
    "pauli_z_2 = np.kron(pauli_z, pauli_z, requires_grad=False)\n",
    "\n",
    "@qml.qnode(device)\n",
    "def circuit(gammas, betas, edge=None):\n",
    "\n",
    "    for i in range(0,qubitsNumber):\n",
    "        qml.Hadamard(wires=i)\n",
    "\n",
    "    for i in range(0,layersNumber):\n",
    "        U_c(gammas[i])\n",
    "        U_b(betas[i])\n",
    "\n",
    "    if edge is None:\n",
    "        return qml.sample(compBasisMeasurement(range(qubitsNumber)))\n",
    "\n",
    "    return qml.expval(qml.Hermitian(pauli_z_2, wires=edge))"
   ]
  },
  {
   "cell_type": "code",
   "execution_count": 359,
   "metadata": {},
   "outputs": [],
   "source": [
    "def costFunction(params):\n",
    "    gammas = params[0]\n",
    "    betas = params[1]\n",
    "    cost = 0\n",
    "    for i,j in graph.edges():\n",
    "        weight = graph.get_edge_data(i,j)['weight']\n",
    "        cost -= 0.5*weight*(1-circuit(gammas, betas, edge=[i,j]))\n",
    "    return cost"
   ]
  },
  {
   "cell_type": "code",
   "execution_count": 360,
   "metadata": {},
   "outputs": [],
   "source": [
    "def getMaxCutSolution(params):\n",
    "    gammas = params[0]\n",
    "    betas = params[1]\n",
    "    outputDecimal = circuit(gammas, betas)\n",
    "    occurrences = collections.Counter(outputDecimal)\n",
    "    return occurrences"
   ]
  },
  {
   "cell_type": "code",
   "execution_count": 361,
   "metadata": {},
   "outputs": [],
   "source": [
    "def getOptimizer(optimizerName=\"GradientDescent\", stepSize=0.01):\n",
    "    if optimizerName == \"GradientDescent\":\n",
    "        return qml.GradientDescentOptimizer(stepsize=stepSize)\n",
    "    if optimizerName == \"Adam\":\n",
    "        return qml.AdamOptimizer(stepsize=stepSize)\n",
    "    if optimizerName == \"NesterovMomentum\":\n",
    "        return qml.NesterovMomentumOptimizer(stepsize=stepSize)\n",
    "    if optimizerName == \"Adagrad\":\n",
    "        return qml.AdagradOptimizer(stepsize=stepSize)"
   ]
  },
  {
   "cell_type": "code",
   "execution_count": 362,
   "metadata": {
    "tags": []
   },
   "outputs": [
    {
     "output_type": "stream",
     "name": "stdout",
     "text": [
      "Final results: Counter({22.0: 179, 9.0: 154, 14.0: 54, 29.0: 49, 2.0: 46, 8.0: 40, 23.0: 39, 6.0: 39, 17.0: 39, 1.0: 36, 20.0: 36, 25.0: 35, 19.0: 32, 30.0: 31, 11.0: 28, 21.0: 20, 4.0: 19, 12.0: 19, 10.0: 17, 15.0: 15, 27.0: 14, 16.0: 11, 18.0: 11, 24.0: 10, 13.0: 7, 26.0: 6, 7.0: 4, 5.0: 3, 28.0: 3, 3.0: 2, 31.0: 2})\n"
     ]
    }
   ],
   "source": [
    "if __name__ == '__main__':\n",
    "    params = 0.01*np.random.rand(2, layersNumber)\n",
    "    optimizer = getOptimizer(optimizerName=\"Adam\", stepSize=0.3)\n",
    "    stepNumber = 200\n",
    "    for i in range(stepNumber):\n",
    "        params = optimizer.step(costFunction, params)\n",
    "    print(\"Final results: \" + str(getMaxCutSolution(params)))"
   ]
  },
  {
   "cell_type": "code",
   "execution_count": 363,
   "metadata": {},
   "outputs": [
    {
     "output_type": "stream",
     "name": "stdout",
     "text": [
      " 0: ──H──╭C────────────╭C──╭C─────────────╭C───RX(-0.958)────────────────────────────────────────────────────────────────────────────────────────────────────╭┤ Sample[H0] \n 1: ──H──╰X──RZ(2.03)──╰X──│──────────────│───╭C─────────────────────╭C──╭C────────────╭C───RX(-0.958)───────────────────────────────────────────────────────├┤ Sample[H0] \n 2: ──H────────────────────╰X──RZ(0.405)──╰X──╰X───────────RZ(2.84)──╰X──│─────────────│───╭C─────────────────────╭C───RX(-0.958)────────────────────────────├┤ Sample[H0] \n 3: ──H──────────────────────────────────────────────────────────────────╰X──RZ(1.62)──╰X──╰X───────────RZ(0.81)──╰X──╭C─────────────────────╭C──RX(-0.958)──├┤ Sample[H0] \n 4: ──H───────────────────────────────────────────────────────────────────────────────────────────────────────────────╰X───────────RZ(1.22)──╰X──RX(-0.958)──╰┤ Sample[H0] \nH0 =\n[[ 0  0  0 ...  0  0  0]\n [ 0  1  0 ...  0  0  0]\n [ 0  0  2 ...  0  0  0]\n ...\n [ 0  0  0 ... 29  0  0]\n [ 0  0  0 ...  0 30  0]\n [ 0  0  0 ...  0  0 31]]\n\n"
     ]
    }
   ],
   "source": [
    "    drawer = qml.draw(circuit)\n",
    "    print(drawer(params[0],params[1]))"
   ]
  }
 ]
}